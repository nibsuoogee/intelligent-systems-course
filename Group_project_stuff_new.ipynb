{
 "cells": [
  {
   "cell_type": "code",
   "execution_count": 5,
   "id": "88ba5920",
   "metadata": {},
   "outputs": [],
   "source": [
    "# The command that was used in powershell\n",
    "# to get the first n rows of the original csv dataset:\n",
    "#  Import-Csv -Path C:\\path\\to\\news_cleaned_2018_02_13.csv \",\" -Encoding utf8 |\n",
    "# >>     Select -First 1000000 |\n",
    "# >>     Export-Csv -Path C:\\path\\to\\news_10_percent_utf8.csv -NoTypeInformation (-Encoding utf8"
   ]
  },
  {
   "cell_type": "code",
   "execution_count": 1,
   "id": "56d41a5b",
   "metadata": {},
   "outputs": [],
   "source": [
    "# imports\n",
    "import pandas as pd\n",
    "import numpy as np\n",
    "from sklearn.model_selection import train_test_split\n",
    "#import spacy\n",
    "import os\n",
    "#import time\n",
    "from collections import Counter\n",
    "\n",
    "#from pandarallel import pandarallel\n",
    "#num_cores = os.cpu_count()\n",
    "#pandarallel.initialize(progress_bar=True, nb_workers=num_cores)"
   ]
  },
  {
   "cell_type": "code",
   "execution_count": 7,
   "id": "f27ca5cf",
   "metadata": {},
   "outputs": [],
   "source": [
    "# count urls, dates, numeric values\n",
    "def count_urls(text):\n",
    "  import re\n",
    "\n",
    "  url_pattern = r'https?://\\S+'\n",
    "  urls = re.findall(url_pattern, str(text))\n",
    "  return len(urls)\n",
    "\n",
    "def count_dates(text):\n",
    "  import datefinder\n",
    "\n",
    "  matches = datefinder.find_dates(text, source=True, strict=True)\n",
    "  return len(list(matches))\n",
    "\n",
    "def count_numeric_values(text):\n",
    "  import re\n",
    "\n",
    "  numeric_pattern = r'\\b\\d+(?:\\.\\d+)?\\b'\n",
    "  numeric_values = re.findall(numeric_pattern, text)\n",
    "  return len(numeric_values)\n",
    "\n",
    "def run_and_write_all_counts(type, df, suffix):\n",
    "  display(f\"Counting {type}...\")\n",
    "  df_counts_of_urls = df['content'].parallel_apply(count_urls)\n",
    "  df_counts_of_dates = df['content'].parallel_apply(count_dates)\n",
    "  df_counts_of_numeric_values = df['content'].parallel_apply(count_numeric_values)\n",
    "\n",
    "  combined_df = pd.concat([df_counts_of_urls, df_counts_of_dates, df_counts_of_numeric_values], axis=1)\n",
    "  combined_df = pd.concat([df_counts_of_urls], axis=1)\n",
    "  \n",
    "  combined_df.columns = ['url_count', 'date_count', 'numeric_count']\n",
    "  display(combined_df.head())\n",
    "\n",
    "  # write to file\n",
    "  #counts_output_file = f\"{type}_counts\"\n",
    "  #combined_df.to_csv(f\"./export/{counts_output_file}{suffix}ASDF.csv\", encoding='utf-8', index=False, header=True)\n",
    "  #display(f\"Wrote {type} counts to {counts_output_file}\")\n",
    "\n",
    "  return combined_df # return results if not writing to file\n",
    "\n",
    "def replace_url_column(df, df_mod, output_name):\n",
    "  df['url_count'] = df_mod['url_count']\n",
    "\n",
    "  # Convert the 'url_count' column to integer dtype if there are no NaNs\n",
    "  #if df['url_count'].isnull().sum() == 0:\n",
    "  #df['url_count'] = df['url_count'].astype(int)\n",
    "\n",
    "  df.to_csv(f\"./export/{output_name}.csv\", encoding='utf-8', index=False, header=True)\n",
    "  display(f\"Wrote {type} counts to {output_name}\")\n",
    "  return\n"
   ]
  },
  {
   "cell_type": "code",
   "execution_count": 2,
   "id": "5c71ad27",
   "metadata": {},
   "outputs": [],
   "source": [
    "#spacy.require_gpu()\n",
    "nlp = spacy.load('en_core_web_sm', exclude=[\"parser\",\"ner\"])"
   ]
  },
  {
   "cell_type": "code",
   "execution_count": 115,
   "id": "0ecf3f40",
   "metadata": {},
   "outputs": [],
   "source": [
    "def get_view(df_news, is_reliable):\n",
    "  df_news_type_view = df_news[df_news[\"type\"].isin([\"reliable\", \"fake\"])][[\"id\", \"type\", \"content\"]]\n",
    "\n",
    "  #data splitting 80%, 10%, 10%\n",
    "  df_train, df_test = train_test_split(df_news_type_view, test_size=0.1, random_state=1)\n",
    "  df_train, df_val = train_test_split(df_train, test_size=0.11, random_state=1)\n",
    "\n",
    "  if is_reliable:\n",
    "    df_reliable_news_view = df_train[df_train[\"type\"] == \"reliable\"][[\"id\", \"content\"]]\n",
    "    return df_reliable_news_view\n",
    "  else:\n",
    "    df_fake_news_view = df_train[df_train[\"type\"] == \"fake\"][[\"id\", \"content\"]]\n",
    "\n",
    "    return df_fake_news_view\n",
    "\n",
    "def process_text(row, nlp, counters):\n",
    "  tokens = nlp(row[\"content\"])\n",
    "  tokens = [token.lemma_ for token in tokens if (not token.is_stop and not token.is_punct)]\n",
    "  #return tokens\n",
    "  \n",
    "  counters[row.name % 4].update(tokens)\n",
    "  #return counters\n",
    "\n",
    "def process_text_keep_stop(row, nlp, counters):\n",
    "  tokens = nlp(row[\"content\"])\n",
    "  tokens = [token.lemma_ for token in tokens if (not token.is_punct)]\n",
    "  #return tokens\n",
    "  \n",
    "  counters[row.name % 4].update(tokens)\n",
    "  #return counters\n",
    "\n",
    "def process_chunk(df_chunk):\n",
    "  def process_text(text, nlp, counter):\n",
    "    tokens = nlp(text)\n",
    "    tokens = [token.lemma_ for token in tokens if (not token.is_stop and not token.is_punct)]\n",
    "    #return tokens\n",
    "    \n",
    "    counter.update(tokens)\n",
    "  \n",
    "  # Initialize a counter for this chunk\n",
    "  import spacy\n",
    "  nlp = spacy.load('en_core_web_sm', exclude=[\"parser\",\"ner\"])\n",
    "\n",
    "  from collections import Counter\n",
    "  chunk_counter = Counter()\n",
    "\n",
    "  df_cleaned = df_chunk.dropna()\n",
    "\n",
    "  # Update the counter for each row in the chunk\n",
    "  df_cleaned.apply(process_text, nlp=nlp, counter=chunk_counter)\n",
    "  \n",
    "  return chunk_counter\n",
    "\n",
    "def run_and_write_frequency(type, df_tokenized, name):\n",
    "  display(f\"Counting {type}...\")\n",
    "  # Tokenize, add unique words to counter\n",
    "\n",
    "  # Split the DataFrame into chunks\n",
    "  num_cores = 4\n",
    "  num_rows = len(df_tokenized)\n",
    "  chunk_size = num_rows // num_cores\n",
    "  chunks = []\n",
    "\n",
    "  # Split the DataFrame into chunks\n",
    "  for i in range(0, num_rows, chunk_size):\n",
    "    chunk = df_tokenized.iloc[i:i+chunk_size]\n",
    "    chunks.append(chunk)\n",
    "\n",
    "  # If there are remaining rows, add them to the last chunk\n",
    "  if num_rows % chunk_size != 0:\n",
    "      last_chunk = chunks.pop()  # Remove the last chunk\n",
    "      chunks[-1] = pd.concat([chunks[-1], last_chunk])\n",
    "\n",
    "  df_chunks = pd.DataFrame(chunks)\n",
    "  \n",
    "  # count occurrances of words in each chunk\n",
    "  counters = df_chunks.parallel_apply(process_chunk, nlp=nlp, axis=1)\n",
    "\n",
    "  #concatenate the counters into one counter\n",
    "  counter = counters[0]\n",
    "  for i, current_counter in enumerate(counters):\n",
    "    if i == 0:\n",
    "      continue\n",
    "    counter.update(current_counter)\n",
    "  \n",
    "  # Sort the data by frequency\n",
    "  counter = counter.most_common()\n",
    "\n",
    "  for index, word_freq in enumerate(counter):\n",
    "    print(str(word_freq).center(20), end=\" \")\n",
    "    if ((index+1)%5 == 0):\n",
    "      print()\n",
    "\n",
    "    # get only the top 100\n",
    "    if (index > 3):\n",
    "      break\n",
    "  \n",
    "  # Convert Counter to DataFrame\n",
    "  counter_df = pd.DataFrame(list(counter), columns=['Word', 'Count'])\n",
    "\n",
    "  # Save DataFrame to CSV file\n",
    "  counter_df.to_csv(f'./export_freq/{name}.csv', index=False)\n",
    "\n",
    "def run_and_write_frequency_faster(type, df, name, keep_stop):\n",
    "  display(f\"Counting {type}...\")\n",
    "  # Tokenize, add unique words to counter\n",
    "\n",
    "  # Split the DataFrame into chunks\n",
    "  num_cores = os.cpu_count()\n",
    "  num_rows = df.shape[0]\n",
    "  chunk_size = num_rows // num_cores\n",
    "  chunks = []\n",
    "\n",
    "  for i in range(0, num_rows, chunk_size):\n",
    "    chunk = df.iloc[i:i+chunk_size]\n",
    "    chunks.append(chunk)\n",
    "\n",
    "  # If there are remaining rows, add them to the last chunk\n",
    "  if num_rows % chunk_size != 0:\n",
    "      last_chunk = chunks.pop()  # Remove the last chunk\n",
    "      chunks[-1] = pd.concat([chunks[-1], last_chunk])\n",
    "\n",
    "  df_chunks = pd.DataFrame(chunks)\n",
    "  \n",
    "  # count occurrances of words in each chunk\n",
    "  counters = df_chunks.parallel_apply(process_chunk, axis=1)\n",
    "  display(counters)\n",
    "  display(counters.shape)\n",
    "  #concatenate the counters into one counter\n",
    "  counter = counters[0]\n",
    "  for i, current_counter in enumerate(counters):\n",
    "    if i == 0:\n",
    "      continue\n",
    "    counter.update(current_counter)\n",
    "  \n",
    "  # Sort the data by frequency\n",
    "  counter = counter.most_common()\n",
    "\n",
    "  for index, word_freq in enumerate(counter):\n",
    "    print(str(word_freq).center(20), end=\" \")\n",
    "    if ((index+1)%5 == 0):\n",
    "      print()\n",
    "\n",
    "    # get only the top 100\n",
    "    if (index > 3):\n",
    "      break\n",
    "  \n",
    "  # Convert Counter to DataFrame\n",
    "  counter_df = pd.DataFrame(list(counter), columns=['Word', 'Count'])\n",
    "\n",
    "  # Save DataFrame to CSV file\n",
    "  counter_df.to_csv(f'./export_freq/{name}.csv', index=False)\n",
    "\n",
    "  "
   ]
  },
  {
   "cell_type": "code",
   "execution_count": 107,
   "id": "9aa77995",
   "metadata": {},
   "outputs": [
    {
     "ename": "ParserError",
     "evalue": "Error tokenizing data. C error: Calling read(nbytes) on source failed. Try engine='python'.",
     "output_type": "error",
     "traceback": [
      "\u001b[1;31m---------------------------------------------------------------------------\u001b[0m",
      "\u001b[1;31mParserError\u001b[0m                               Traceback (most recent call last)",
      "\u001b[1;32m~\\AppData\\Local\\Temp\\ipykernel_19692\\1307511248.py\u001b[0m in \u001b[0;36m<module>\u001b[1;34m\u001b[0m\n\u001b[0;32m     20\u001b[0m \u001b[1;32mfor\u001b[0m \u001b[0mi\u001b[0m\u001b[1;33m,\u001b[0m \u001b[0mplan_tuple\u001b[0m \u001b[1;32min\u001b[0m \u001b[0menumerate\u001b[0m\u001b[1;33m(\u001b[0m\u001b[0mplan\u001b[0m\u001b[1;33m)\u001b[0m\u001b[1;33m:\u001b[0m\u001b[1;33m\u001b[0m\u001b[1;33m\u001b[0m\u001b[0m\n\u001b[0;32m     21\u001b[0m   \u001b[1;32mif\u001b[0m \u001b[0mlast_skip\u001b[0m \u001b[1;33m!=\u001b[0m \u001b[0mplan_tuple\u001b[0m\u001b[1;33m[\u001b[0m\u001b[1;36m1\u001b[0m\u001b[1;33m]\u001b[0m\u001b[1;33m:\u001b[0m\u001b[1;33m\u001b[0m\u001b[1;33m\u001b[0m\u001b[0m\n\u001b[1;32m---> 22\u001b[1;33m     \u001b[0mdf_news\u001b[0m \u001b[1;33m=\u001b[0m \u001b[0mpd\u001b[0m\u001b[1;33m.\u001b[0m\u001b[0mread_csv\u001b[0m\u001b[1;33m(\u001b[0m\u001b[0mnews_path\u001b[0m\u001b[1;33m,\u001b[0m \u001b[0msep\u001b[0m\u001b[1;33m=\u001b[0m\u001b[1;34m','\u001b[0m\u001b[1;33m,\u001b[0m \u001b[0mskiprows\u001b[0m\u001b[1;33m=\u001b[0m\u001b[0mrange\u001b[0m\u001b[1;33m(\u001b[0m\u001b[1;36m1\u001b[0m\u001b[1;33m,\u001b[0m \u001b[0mplan_tuple\u001b[0m\u001b[1;33m[\u001b[0m\u001b[1;36m1\u001b[0m\u001b[1;33m]\u001b[0m\u001b[1;33m)\u001b[0m\u001b[1;33m,\u001b[0m \u001b[0mnrows\u001b[0m\u001b[1;33m=\u001b[0m\u001b[1;36m1_000_000\u001b[0m\u001b[1;33m)\u001b[0m\u001b[1;33m\u001b[0m\u001b[1;33m\u001b[0m\u001b[0m\n\u001b[0m\u001b[0;32m     23\u001b[0m   \u001b[1;32melse\u001b[0m\u001b[1;33m:\u001b[0m\u001b[1;33m\u001b[0m\u001b[1;33m\u001b[0m\u001b[0m\n\u001b[0;32m     24\u001b[0m     \u001b[0mdisplay\u001b[0m\u001b[1;33m(\u001b[0m\u001b[1;34mf\"i: {i}, skipped read_csv\"\u001b[0m\u001b[1;33m)\u001b[0m\u001b[1;33m\u001b[0m\u001b[1;33m\u001b[0m\u001b[0m\n",
      "\u001b[1;32mc:\\Users\\Elias\\miniconda3\\envs\\py37env\\lib\\site-packages\\pandas\\util\\_decorators.py\u001b[0m in \u001b[0;36mwrapper\u001b[1;34m(*args, **kwargs)\u001b[0m\n\u001b[0;32m    309\u001b[0m                     \u001b[0mstacklevel\u001b[0m\u001b[1;33m=\u001b[0m\u001b[0mstacklevel\u001b[0m\u001b[1;33m,\u001b[0m\u001b[1;33m\u001b[0m\u001b[1;33m\u001b[0m\u001b[0m\n\u001b[0;32m    310\u001b[0m                 )\n\u001b[1;32m--> 311\u001b[1;33m             \u001b[1;32mreturn\u001b[0m \u001b[0mfunc\u001b[0m\u001b[1;33m(\u001b[0m\u001b[1;33m*\u001b[0m\u001b[0margs\u001b[0m\u001b[1;33m,\u001b[0m \u001b[1;33m**\u001b[0m\u001b[0mkwargs\u001b[0m\u001b[1;33m)\u001b[0m\u001b[1;33m\u001b[0m\u001b[1;33m\u001b[0m\u001b[0m\n\u001b[0m\u001b[0;32m    312\u001b[0m \u001b[1;33m\u001b[0m\u001b[0m\n\u001b[0;32m    313\u001b[0m         \u001b[1;32mreturn\u001b[0m \u001b[0mwrapper\u001b[0m\u001b[1;33m\u001b[0m\u001b[1;33m\u001b[0m\u001b[0m\n",
      "\u001b[1;32mc:\\Users\\Elias\\miniconda3\\envs\\py37env\\lib\\site-packages\\pandas\\io\\parsers\\readers.py\u001b[0m in \u001b[0;36mread_csv\u001b[1;34m(filepath_or_buffer, sep, delimiter, header, names, index_col, usecols, squeeze, prefix, mangle_dupe_cols, dtype, engine, converters, true_values, false_values, skipinitialspace, skiprows, skipfooter, nrows, na_values, keep_default_na, na_filter, verbose, skip_blank_lines, parse_dates, infer_datetime_format, keep_date_col, date_parser, dayfirst, cache_dates, iterator, chunksize, compression, thousands, decimal, lineterminator, quotechar, quoting, doublequote, escapechar, comment, encoding, encoding_errors, dialect, error_bad_lines, warn_bad_lines, on_bad_lines, delim_whitespace, low_memory, memory_map, float_precision, storage_options)\u001b[0m\n\u001b[0;32m    584\u001b[0m     \u001b[0mkwds\u001b[0m\u001b[1;33m.\u001b[0m\u001b[0mupdate\u001b[0m\u001b[1;33m(\u001b[0m\u001b[0mkwds_defaults\u001b[0m\u001b[1;33m)\u001b[0m\u001b[1;33m\u001b[0m\u001b[1;33m\u001b[0m\u001b[0m\n\u001b[0;32m    585\u001b[0m \u001b[1;33m\u001b[0m\u001b[0m\n\u001b[1;32m--> 586\u001b[1;33m     \u001b[1;32mreturn\u001b[0m \u001b[0m_read\u001b[0m\u001b[1;33m(\u001b[0m\u001b[0mfilepath_or_buffer\u001b[0m\u001b[1;33m,\u001b[0m \u001b[0mkwds\u001b[0m\u001b[1;33m)\u001b[0m\u001b[1;33m\u001b[0m\u001b[1;33m\u001b[0m\u001b[0m\n\u001b[0m\u001b[0;32m    587\u001b[0m \u001b[1;33m\u001b[0m\u001b[0m\n\u001b[0;32m    588\u001b[0m \u001b[1;33m\u001b[0m\u001b[0m\n",
      "\u001b[1;32mc:\\Users\\Elias\\miniconda3\\envs\\py37env\\lib\\site-packages\\pandas\\io\\parsers\\readers.py\u001b[0m in \u001b[0;36m_read\u001b[1;34m(filepath_or_buffer, kwds)\u001b[0m\n\u001b[0;32m    480\u001b[0m \u001b[1;33m\u001b[0m\u001b[0m\n\u001b[0;32m    481\u001b[0m     \u001b[1;31m# Create the parser.\u001b[0m\u001b[1;33m\u001b[0m\u001b[1;33m\u001b[0m\u001b[1;33m\u001b[0m\u001b[0m\n\u001b[1;32m--> 482\u001b[1;33m     \u001b[0mparser\u001b[0m \u001b[1;33m=\u001b[0m \u001b[0mTextFileReader\u001b[0m\u001b[1;33m(\u001b[0m\u001b[0mfilepath_or_buffer\u001b[0m\u001b[1;33m,\u001b[0m \u001b[1;33m**\u001b[0m\u001b[0mkwds\u001b[0m\u001b[1;33m)\u001b[0m\u001b[1;33m\u001b[0m\u001b[1;33m\u001b[0m\u001b[0m\n\u001b[0m\u001b[0;32m    483\u001b[0m \u001b[1;33m\u001b[0m\u001b[0m\n\u001b[0;32m    484\u001b[0m     \u001b[1;32mif\u001b[0m \u001b[0mchunksize\u001b[0m \u001b[1;32mor\u001b[0m \u001b[0miterator\u001b[0m\u001b[1;33m:\u001b[0m\u001b[1;33m\u001b[0m\u001b[1;33m\u001b[0m\u001b[0m\n",
      "\u001b[1;32mc:\\Users\\Elias\\miniconda3\\envs\\py37env\\lib\\site-packages\\pandas\\io\\parsers\\readers.py\u001b[0m in \u001b[0;36m__init__\u001b[1;34m(self, f, engine, **kwds)\u001b[0m\n\u001b[0;32m    809\u001b[0m             \u001b[0mself\u001b[0m\u001b[1;33m.\u001b[0m\u001b[0moptions\u001b[0m\u001b[1;33m[\u001b[0m\u001b[1;34m\"has_index_names\"\u001b[0m\u001b[1;33m]\u001b[0m \u001b[1;33m=\u001b[0m \u001b[0mkwds\u001b[0m\u001b[1;33m[\u001b[0m\u001b[1;34m\"has_index_names\"\u001b[0m\u001b[1;33m]\u001b[0m\u001b[1;33m\u001b[0m\u001b[1;33m\u001b[0m\u001b[0m\n\u001b[0;32m    810\u001b[0m \u001b[1;33m\u001b[0m\u001b[0m\n\u001b[1;32m--> 811\u001b[1;33m         \u001b[0mself\u001b[0m\u001b[1;33m.\u001b[0m\u001b[0m_engine\u001b[0m \u001b[1;33m=\u001b[0m \u001b[0mself\u001b[0m\u001b[1;33m.\u001b[0m\u001b[0m_make_engine\u001b[0m\u001b[1;33m(\u001b[0m\u001b[0mself\u001b[0m\u001b[1;33m.\u001b[0m\u001b[0mengine\u001b[0m\u001b[1;33m)\u001b[0m\u001b[1;33m\u001b[0m\u001b[1;33m\u001b[0m\u001b[0m\n\u001b[0m\u001b[0;32m    812\u001b[0m \u001b[1;33m\u001b[0m\u001b[0m\n\u001b[0;32m    813\u001b[0m     \u001b[1;32mdef\u001b[0m \u001b[0mclose\u001b[0m\u001b[1;33m(\u001b[0m\u001b[0mself\u001b[0m\u001b[1;33m)\u001b[0m\u001b[1;33m:\u001b[0m\u001b[1;33m\u001b[0m\u001b[1;33m\u001b[0m\u001b[0m\n",
      "\u001b[1;32mc:\\Users\\Elias\\miniconda3\\envs\\py37env\\lib\\site-packages\\pandas\\io\\parsers\\readers.py\u001b[0m in \u001b[0;36m_make_engine\u001b[1;34m(self, engine)\u001b[0m\n\u001b[0;32m   1038\u001b[0m             )\n\u001b[0;32m   1039\u001b[0m         \u001b[1;31m# error: Too many arguments for \"ParserBase\"\u001b[0m\u001b[1;33m\u001b[0m\u001b[1;33m\u001b[0m\u001b[1;33m\u001b[0m\u001b[0m\n\u001b[1;32m-> 1040\u001b[1;33m         \u001b[1;32mreturn\u001b[0m \u001b[0mmapping\u001b[0m\u001b[1;33m[\u001b[0m\u001b[0mengine\u001b[0m\u001b[1;33m]\u001b[0m\u001b[1;33m(\u001b[0m\u001b[0mself\u001b[0m\u001b[1;33m.\u001b[0m\u001b[0mf\u001b[0m\u001b[1;33m,\u001b[0m \u001b[1;33m**\u001b[0m\u001b[0mself\u001b[0m\u001b[1;33m.\u001b[0m\u001b[0moptions\u001b[0m\u001b[1;33m)\u001b[0m  \u001b[1;31m# type: ignore[call-arg]\u001b[0m\u001b[1;33m\u001b[0m\u001b[1;33m\u001b[0m\u001b[0m\n\u001b[0m\u001b[0;32m   1041\u001b[0m \u001b[1;33m\u001b[0m\u001b[0m\n\u001b[0;32m   1042\u001b[0m     \u001b[1;32mdef\u001b[0m \u001b[0m_failover_to_python\u001b[0m\u001b[1;33m(\u001b[0m\u001b[0mself\u001b[0m\u001b[1;33m)\u001b[0m\u001b[1;33m:\u001b[0m\u001b[1;33m\u001b[0m\u001b[1;33m\u001b[0m\u001b[0m\n",
      "\u001b[1;32mc:\\Users\\Elias\\miniconda3\\envs\\py37env\\lib\\site-packages\\pandas\\io\\parsers\\c_parser_wrapper.py\u001b[0m in \u001b[0;36m__init__\u001b[1;34m(self, src, **kwds)\u001b[0m\n\u001b[0;32m     67\u001b[0m         \u001b[0mkwds\u001b[0m\u001b[1;33m[\u001b[0m\u001b[1;34m\"dtype\"\u001b[0m\u001b[1;33m]\u001b[0m \u001b[1;33m=\u001b[0m \u001b[0mensure_dtype_objs\u001b[0m\u001b[1;33m(\u001b[0m\u001b[0mkwds\u001b[0m\u001b[1;33m.\u001b[0m\u001b[0mget\u001b[0m\u001b[1;33m(\u001b[0m\u001b[1;34m\"dtype\"\u001b[0m\u001b[1;33m,\u001b[0m \u001b[1;32mNone\u001b[0m\u001b[1;33m)\u001b[0m\u001b[1;33m)\u001b[0m\u001b[1;33m\u001b[0m\u001b[1;33m\u001b[0m\u001b[0m\n\u001b[0;32m     68\u001b[0m         \u001b[1;32mtry\u001b[0m\u001b[1;33m:\u001b[0m\u001b[1;33m\u001b[0m\u001b[1;33m\u001b[0m\u001b[0m\n\u001b[1;32m---> 69\u001b[1;33m             \u001b[0mself\u001b[0m\u001b[1;33m.\u001b[0m\u001b[0m_reader\u001b[0m \u001b[1;33m=\u001b[0m \u001b[0mparsers\u001b[0m\u001b[1;33m.\u001b[0m\u001b[0mTextReader\u001b[0m\u001b[1;33m(\u001b[0m\u001b[0mself\u001b[0m\u001b[1;33m.\u001b[0m\u001b[0mhandles\u001b[0m\u001b[1;33m.\u001b[0m\u001b[0mhandle\u001b[0m\u001b[1;33m,\u001b[0m \u001b[1;33m**\u001b[0m\u001b[0mkwds\u001b[0m\u001b[1;33m)\u001b[0m\u001b[1;33m\u001b[0m\u001b[1;33m\u001b[0m\u001b[0m\n\u001b[0m\u001b[0;32m     70\u001b[0m         \u001b[1;32mexcept\u001b[0m \u001b[0mException\u001b[0m\u001b[1;33m:\u001b[0m\u001b[1;33m\u001b[0m\u001b[1;33m\u001b[0m\u001b[0m\n\u001b[0;32m     71\u001b[0m             \u001b[0mself\u001b[0m\u001b[1;33m.\u001b[0m\u001b[0mhandles\u001b[0m\u001b[1;33m.\u001b[0m\u001b[0mclose\u001b[0m\u001b[1;33m(\u001b[0m\u001b[1;33m)\u001b[0m\u001b[1;33m\u001b[0m\u001b[1;33m\u001b[0m\u001b[0m\n",
      "\u001b[1;32mc:\\Users\\Elias\\miniconda3\\envs\\py37env\\lib\\site-packages\\pandas\\_libs\\parsers.pyx\u001b[0m in \u001b[0;36mpandas._libs.parsers.TextReader.__cinit__\u001b[1;34m()\u001b[0m\n",
      "\u001b[1;32mc:\\Users\\Elias\\miniconda3\\envs\\py37env\\lib\\site-packages\\pandas\\_libs\\parsers.pyx\u001b[0m in \u001b[0;36mpandas._libs.parsers.TextReader._get_header\u001b[1;34m()\u001b[0m\n",
      "\u001b[1;32mc:\\Users\\Elias\\miniconda3\\envs\\py37env\\lib\\site-packages\\pandas\\_libs\\parsers.pyx\u001b[0m in \u001b[0;36mpandas._libs.parsers.TextReader._tokenize_rows\u001b[1;34m()\u001b[0m\n",
      "\u001b[1;32mc:\\Users\\Elias\\miniconda3\\envs\\py37env\\lib\\site-packages\\pandas\\_libs\\parsers.pyx\u001b[0m in \u001b[0;36mpandas._libs.parsers.raise_parser_error\u001b[1;34m()\u001b[0m\n",
      "\u001b[1;31mParserError\u001b[0m: Error tokenizing data. C error: Calling read(nbytes) on source failed. Try engine='python'."
     ]
    }
   ],
   "source": [
    "news_path = \"../ML-data/news_cleaned_2018_02_13.csv\"\n",
    "\n",
    "# is_reliable, skip_rows, name, with_stop\n",
    "#plan = [(True, 8_000_000, \"reliable_no_stop_freq_1M_9\", False)]\n",
    "plan = [(True, 1_000_000, \"reliable_test\", False)]\n",
    "#plan = [(True, 0, \"reliable_with_stop_freq_1M_1\", True),\n",
    "#        (False, 0, \"fake_with_stop_freq_1M_1\", True),\n",
    "#        (True, 0, \"reliable_no_stop_freq_1M_1\", False),\n",
    "#        (False, 0, \"fake_no_stop_freq_1M_1\", False)]\n",
    "\n",
    "#for i in range(1, 10):\n",
    "#  last_value = plan[-1][1]\n",
    "#  new_value = (i * 1_000_000)\n",
    "#  plan.append((True, new_value, f\"reliable_with_stop_freq_1M_{i+1}\", True))\n",
    "#  plan.append((False, new_value, f\"fake_with_stop_freq_1M_{i+1}\", True))\n",
    "#  plan.append((True, new_value, f\"reliable_no_stop_freq_1M_{i+1}\", False))\n",
    "#  plan.append((False, new_value, f\"fake_no_stop_freq_1M_{i+1}\", False))\n",
    "\n",
    "last_skip = -1\n",
    "for i, plan_tuple in enumerate(plan):\n",
    "  if last_skip != plan_tuple[1]:\n",
    "    df_news = pd.read_csv(news_path, sep=',', skiprows=range(1, plan_tuple[1]), nrows=1_000_000)\n",
    "  else:\n",
    "    display(f\"i: {i}, skipped read_csv\")\n",
    "        \n",
    "  last_skip = plan_tuple[1]    \n",
    "\n",
    "  view = get_view(df_news, plan_tuple[0])\n",
    "  display(view.head())\n",
    "  #if plan_tuple[3]:\n",
    "  #  df_tokenized = view['content'].parallel_apply(process_text_keep_stop, nlp=nlp)\n",
    "  #else:\n",
    "  #  df_tokenized = view['content'].parallel_apply(process_text, nlp=nlp)\n",
    "\n",
    "  run_and_write_frequency_faster(plan_tuple[0], view, f\"{plan_tuple[2]}_rows_{view.shape[0]}\", plan_tuple[3])"
   ]
  },
  {
   "cell_type": "code",
   "execution_count": 1,
   "id": "ef4e1e86",
   "metadata": {},
   "outputs": [
    {
     "ename": "NameError",
     "evalue": "name 'pd' is not defined",
     "output_type": "error",
     "traceback": [
      "\u001b[1;31m---------------------------------------------------------------------------\u001b[0m",
      "\u001b[1;31mNameError\u001b[0m                                 Traceback (most recent call last)",
      "\u001b[1;32m~\\AppData\\Local\\Temp\\ipykernel_8260\\1201218226.py\u001b[0m in \u001b[0;36m<module>\u001b[1;34m\u001b[0m\n\u001b[0;32m      1\u001b[0m \u001b[0mnews_path\u001b[0m \u001b[1;33m=\u001b[0m \u001b[1;34m\"../ML-data/news_cleaned_2018_02_13.csv\"\u001b[0m\u001b[1;33m\u001b[0m\u001b[1;33m\u001b[0m\u001b[0m\n\u001b[0;32m      2\u001b[0m \u001b[1;33m\u001b[0m\u001b[0m\n\u001b[1;32m----> 3\u001b[1;33m \u001b[0mdf_news\u001b[0m \u001b[1;33m=\u001b[0m \u001b[0mpd\u001b[0m\u001b[1;33m.\u001b[0m\u001b[0mread_csv\u001b[0m\u001b[1;33m(\u001b[0m\u001b[0mnews_path\u001b[0m\u001b[1;33m,\u001b[0m \u001b[0msep\u001b[0m\u001b[1;33m=\u001b[0m\u001b[1;34m','\u001b[0m\u001b[1;33m,\u001b[0m \u001b[0mskiprows\u001b[0m\u001b[1;33m=\u001b[0m\u001b[0mrange\u001b[0m\u001b[1;33m(\u001b[0m\u001b[1;36m1\u001b[0m\u001b[1;33m,\u001b[0m \u001b[1;36m1\u001b[0m\u001b[1;33m)\u001b[0m\u001b[1;33m,\u001b[0m \u001b[0mnrows\u001b[0m\u001b[1;33m=\u001b[0m\u001b[1;36m1_000_000\u001b[0m\u001b[1;33m)\u001b[0m\u001b[1;33m\u001b[0m\u001b[1;33m\u001b[0m\u001b[0m\n\u001b[0m\u001b[0;32m      4\u001b[0m \u001b[1;33m\u001b[0m\u001b[0m\n\u001b[0;32m      5\u001b[0m \u001b[1;31m#view = get_view(df_news, plan_tuple[0])\u001b[0m\u001b[1;33m\u001b[0m\u001b[1;33m\u001b[0m\u001b[1;33m\u001b[0m\u001b[0m\n",
      "\u001b[1;31mNameError\u001b[0m: name 'pd' is not defined"
     ]
    }
   ],
   "source": [
    "news_path = \"../ML-data/news_cleaned_2018_02_13.csv\"\n",
    "\n",
    "df_news = pd.read_csv(news_path, sep=',', skiprows=range(1, 1), nrows=1_000_000)\n",
    "\n",
    "#view = get_view(df_news, plan_tuple[0])\n",
    "#display(view.head())\n",
    "\n",
    "df_fake_news_view = df_news[df_news[\"type\"] == \"fake\"]\n",
    "df_reliable_news_view = df_news[df_news[\"type\"] == \"reliable\"]\n",
    "\n",
    "display(df_fake_news_view.shape)\n",
    "display(df_fake_news_view.head())\n",
    "\n",
    "display(df_reliable_news_view.shape)\n",
    "display(df_reliable_news_view.head())"
   ]
  },
  {
   "cell_type": "code",
   "execution_count": 4,
   "id": "6d2d80f1",
   "metadata": {},
   "outputs": [
    {
     "data": {
      "text/plain": [
       "(0, 17)"
      ]
     },
     "metadata": {},
     "output_type": "display_data"
    },
    {
     "data": {
      "text/html": [
       "<div>\n",
       "<style scoped>\n",
       "    .dataframe tbody tr th:only-of-type {\n",
       "        vertical-align: middle;\n",
       "    }\n",
       "\n",
       "    .dataframe tbody tr th {\n",
       "        vertical-align: top;\n",
       "    }\n",
       "\n",
       "    .dataframe thead th {\n",
       "        text-align: right;\n",
       "    }\n",
       "</style>\n",
       "<table border=\"1\" class=\"dataframe\">\n",
       "  <thead>\n",
       "    <tr style=\"text-align: right;\">\n",
       "      <th></th>\n",
       "      <th>Unnamed: 0</th>\n",
       "      <th>id</th>\n",
       "      <th>domain</th>\n",
       "      <th>type</th>\n",
       "      <th>url</th>\n",
       "      <th>content</th>\n",
       "      <th>scraped_at</th>\n",
       "      <th>inserted_at</th>\n",
       "      <th>updated_at</th>\n",
       "      <th>title</th>\n",
       "      <th>authors</th>\n",
       "      <th>keywords</th>\n",
       "      <th>meta_keywords</th>\n",
       "      <th>meta_description</th>\n",
       "      <th>tags</th>\n",
       "      <th>summary</th>\n",
       "      <th>source</th>\n",
       "    </tr>\n",
       "  </thead>\n",
       "  <tbody>\n",
       "  </tbody>\n",
       "</table>\n",
       "</div>"
      ],
      "text/plain": [
       "Empty DataFrame\n",
       "Columns: [Unnamed: 0, id, domain, type, url, content, scraped_at, inserted_at, updated_at, title, authors, keywords, meta_keywords, meta_description, tags, summary, source]\n",
       "Index: []"
      ]
     },
     "metadata": {},
     "output_type": "display_data"
    },
    {
     "data": {
      "text/plain": [
       "(529108, 17)"
      ]
     },
     "metadata": {},
     "output_type": "display_data"
    },
    {
     "data": {
      "text/html": [
       "<div>\n",
       "<style scoped>\n",
       "    .dataframe tbody tr th:only-of-type {\n",
       "        vertical-align: middle;\n",
       "    }\n",
       "\n",
       "    .dataframe tbody tr th {\n",
       "        vertical-align: top;\n",
       "    }\n",
       "\n",
       "    .dataframe thead th {\n",
       "        text-align: right;\n",
       "    }\n",
       "</style>\n",
       "<table border=\"1\" class=\"dataframe\">\n",
       "  <thead>\n",
       "    <tr style=\"text-align: right;\">\n",
       "      <th></th>\n",
       "      <th>Unnamed: 0</th>\n",
       "      <th>id</th>\n",
       "      <th>domain</th>\n",
       "      <th>type</th>\n",
       "      <th>url</th>\n",
       "      <th>content</th>\n",
       "      <th>scraped_at</th>\n",
       "      <th>inserted_at</th>\n",
       "      <th>updated_at</th>\n",
       "      <th>title</th>\n",
       "      <th>authors</th>\n",
       "      <th>keywords</th>\n",
       "      <th>meta_keywords</th>\n",
       "      <th>meta_description</th>\n",
       "      <th>tags</th>\n",
       "      <th>summary</th>\n",
       "      <th>source</th>\n",
       "    </tr>\n",
       "  </thead>\n",
       "  <tbody>\n",
       "    <tr>\n",
       "      <th>0</th>\n",
       "      <td>9848</td>\n",
       "      <td>9348910</td>\n",
       "      <td>nytimes.com</td>\n",
       "      <td>reliable</td>\n",
       "      <td>https://query.nytimes.com/gst/fullpage.html?re...</td>\n",
       "      <td>FRIEDMAN--Sol, 99. Adored husband of the late ...</td>\n",
       "      <td>2018-02-11 00:44:32.784540</td>\n",
       "      <td>2018-02-11 00:14:20.346838</td>\n",
       "      <td>2018-02-11 00:14:20.346871</td>\n",
       "      <td>Paid Notice: Deaths  FRIEDMAN, SOL</td>\n",
       "      <td>NaN</td>\n",
       "      <td>NaN</td>\n",
       "      <td>['FRIEDMAN  SOL']</td>\n",
       "      <td>FRIEDMAN--Sol, 99. Adored husband of the late ...</td>\n",
       "      <td>NaN</td>\n",
       "      <td>NaN</td>\n",
       "      <td>nytimes</td>\n",
       "    </tr>\n",
       "    <tr>\n",
       "      <th>1</th>\n",
       "      <td>9849</td>\n",
       "      <td>9348911</td>\n",
       "      <td>nytimes.com</td>\n",
       "      <td>reliable</td>\n",
       "      <td>https://query.nytimes.com/gst/fullpage.html?re...</td>\n",
       "      <td>LEVINE--Arnold, on August 2nd, 2010 at 87, sur...</td>\n",
       "      <td>2018-02-11 00:44:32.784599</td>\n",
       "      <td>2018-02-11 00:14:20.346838</td>\n",
       "      <td>2018-02-11 00:14:20.346871</td>\n",
       "      <td>Paid Notice: Deaths  LEVINE, ARNOLD</td>\n",
       "      <td>NaN</td>\n",
       "      <td>NaN</td>\n",
       "      <td>['LEVINE  ARNOLD']</td>\n",
       "      <td>LEVINE--Arnold, on August 2nd, 2010 at 87, sur...</td>\n",
       "      <td>NaN</td>\n",
       "      <td>NaN</td>\n",
       "      <td>nytimes</td>\n",
       "    </tr>\n",
       "    <tr>\n",
       "      <th>2</th>\n",
       "      <td>9850</td>\n",
       "      <td>9348912</td>\n",
       "      <td>nytimes.com</td>\n",
       "      <td>reliable</td>\n",
       "      <td>https://query.nytimes.com/gst/fullpage.html?re...</td>\n",
       "      <td>LEVINSON--Harry, 74, of Monsey, NY. Renowned r...</td>\n",
       "      <td>2018-02-11 00:44:32.784679</td>\n",
       "      <td>2018-02-11 00:14:20.346838</td>\n",
       "      <td>2018-02-11 00:14:20.346871</td>\n",
       "      <td>Paid Notice: Deaths  LEVINSON, HARRY</td>\n",
       "      <td>NaN</td>\n",
       "      <td>NaN</td>\n",
       "      <td>['LEVINSON  HARRY']</td>\n",
       "      <td>LEVINSON--Harry, 74, of Monsey, NY. Renowned r...</td>\n",
       "      <td>NaN</td>\n",
       "      <td>NaN</td>\n",
       "      <td>nytimes</td>\n",
       "    </tr>\n",
       "    <tr>\n",
       "      <th>3</th>\n",
       "      <td>9851</td>\n",
       "      <td>9348913</td>\n",
       "      <td>nytimes.com</td>\n",
       "      <td>reliable</td>\n",
       "      <td>https://query.nytimes.com/gst/fullpage.html?re...</td>\n",
       "      <td>BERGMAN--Irene W. Died August 2, 2010 peaceful...</td>\n",
       "      <td>2018-02-11 00:44:32.784728</td>\n",
       "      <td>2018-02-11 00:14:20.346838</td>\n",
       "      <td>2018-02-11 00:14:20.346871</td>\n",
       "      <td>Paid Notice: Deaths  BERGMAN, IRENE W</td>\n",
       "      <td>NaN</td>\n",
       "      <td>NaN</td>\n",
       "      <td>['BERGMAN  IRENE W']</td>\n",
       "      <td>BERGMAN--Irene W. Died August 2, 2010 peaceful...</td>\n",
       "      <td>NaN</td>\n",
       "      <td>NaN</td>\n",
       "      <td>nytimes</td>\n",
       "    </tr>\n",
       "    <tr>\n",
       "      <th>4</th>\n",
       "      <td>9852</td>\n",
       "      <td>9348914</td>\n",
       "      <td>nytimes.com</td>\n",
       "      <td>reliable</td>\n",
       "      <td>https://query.nytimes.com/gst/fullpage.html?re...</td>\n",
       "      <td>9 P.M. (ABC) SHAQ VSShaquille O'Neal tries onc...</td>\n",
       "      <td>2018-02-11 00:44:32.794130</td>\n",
       "      <td>2018-02-11 00:14:20.346838</td>\n",
       "      <td>2018-02-11 00:14:20.346871</td>\n",
       "      <td>What's On Today</td>\n",
       "      <td>NaN</td>\n",
       "      <td>NaN</td>\n",
       "      <td>['']</td>\n",
       "      <td>9 P.M. (ABC) SHAQ VSShaquille O'Neal tries onc...</td>\n",
       "      <td>NaN</td>\n",
       "      <td>NaN</td>\n",
       "      <td>nytimes</td>\n",
       "    </tr>\n",
       "  </tbody>\n",
       "</table>\n",
       "</div>"
      ],
      "text/plain": [
       "   Unnamed: 0       id       domain      type  \\\n",
       "0        9848  9348910  nytimes.com  reliable   \n",
       "1        9849  9348911  nytimes.com  reliable   \n",
       "2        9850  9348912  nytimes.com  reliable   \n",
       "3        9851  9348913  nytimes.com  reliable   \n",
       "4        9852  9348914  nytimes.com  reliable   \n",
       "\n",
       "                                                 url  \\\n",
       "0  https://query.nytimes.com/gst/fullpage.html?re...   \n",
       "1  https://query.nytimes.com/gst/fullpage.html?re...   \n",
       "2  https://query.nytimes.com/gst/fullpage.html?re...   \n",
       "3  https://query.nytimes.com/gst/fullpage.html?re...   \n",
       "4  https://query.nytimes.com/gst/fullpage.html?re...   \n",
       "\n",
       "                                             content  \\\n",
       "0  FRIEDMAN--Sol, 99. Adored husband of the late ...   \n",
       "1  LEVINE--Arnold, on August 2nd, 2010 at 87, sur...   \n",
       "2  LEVINSON--Harry, 74, of Monsey, NY. Renowned r...   \n",
       "3  BERGMAN--Irene W. Died August 2, 2010 peaceful...   \n",
       "4  9 P.M. (ABC) SHAQ VSShaquille O'Neal tries onc...   \n",
       "\n",
       "                   scraped_at                 inserted_at  \\\n",
       "0  2018-02-11 00:44:32.784540  2018-02-11 00:14:20.346838   \n",
       "1  2018-02-11 00:44:32.784599  2018-02-11 00:14:20.346838   \n",
       "2  2018-02-11 00:44:32.784679  2018-02-11 00:14:20.346838   \n",
       "3  2018-02-11 00:44:32.784728  2018-02-11 00:14:20.346838   \n",
       "4  2018-02-11 00:44:32.794130  2018-02-11 00:14:20.346838   \n",
       "\n",
       "                   updated_at                                  title authors  \\\n",
       "0  2018-02-11 00:14:20.346871     Paid Notice: Deaths  FRIEDMAN, SOL     NaN   \n",
       "1  2018-02-11 00:14:20.346871    Paid Notice: Deaths  LEVINE, ARNOLD     NaN   \n",
       "2  2018-02-11 00:14:20.346871   Paid Notice: Deaths  LEVINSON, HARRY     NaN   \n",
       "3  2018-02-11 00:14:20.346871  Paid Notice: Deaths  BERGMAN, IRENE W     NaN   \n",
       "4  2018-02-11 00:14:20.346871                        What's On Today     NaN   \n",
       "\n",
       "   keywords         meta_keywords  \\\n",
       "0       NaN     ['FRIEDMAN  SOL']   \n",
       "1       NaN    ['LEVINE  ARNOLD']   \n",
       "2       NaN   ['LEVINSON  HARRY']   \n",
       "3       NaN  ['BERGMAN  IRENE W']   \n",
       "4       NaN                  ['']   \n",
       "\n",
       "                                    meta_description tags  summary   source  \n",
       "0  FRIEDMAN--Sol, 99. Adored husband of the late ...  NaN      NaN  nytimes  \n",
       "1  LEVINE--Arnold, on August 2nd, 2010 at 87, sur...  NaN      NaN  nytimes  \n",
       "2  LEVINSON--Harry, 74, of Monsey, NY. Renowned r...  NaN      NaN  nytimes  \n",
       "3  BERGMAN--Irene W. Died August 2, 2010 peaceful...  NaN      NaN  nytimes  \n",
       "4  9 P.M. (ABC) SHAQ VSShaquille O'Neal tries onc...  NaN      NaN  nytimes  "
      ]
     },
     "metadata": {},
     "output_type": "display_data"
    }
   ],
   "source": [
    "news_path = \"../ML-data/news_cleaned_2018_02_13.csv\"\n",
    "\n",
    "df_news = pd.read_csv(news_path, sep=',', skiprows=range(1, 8_000_000), nrows=1_000_000)\n",
    "\n",
    "#view = get_view(df_news, plan_tuple[0])\n",
    "#display(view.head())\n",
    "\n",
    "df_fake_news_view = df_news[df_news[\"type\"] == \"fake\"]\n",
    "df_reliable_news_view = df_news[df_news[\"type\"] == \"reliable\"]\n",
    "\n",
    "display(df_fake_news_view.shape)\n",
    "display(df_fake_news_view.head())\n",
    "\n",
    "display(df_reliable_news_view.shape)\n",
    "display(df_reliable_news_view.head())"
   ]
  },
  {
   "cell_type": "code",
   "execution_count": 4,
   "id": "0f433725",
   "metadata": {},
   "outputs": [
    {
     "name": "stderr",
     "output_type": "stream",
     "text": [
      "c:\\Users\\Elias\\miniconda3\\envs\\py37env\\lib\\site-packages\\IPython\\core\\interactiveshell.py:3457: DtypeWarning: Columns (14) have mixed types.Specify dtype option on import or set low_memory=False.\n",
      "  exec(code_obj, self.user_global_ns, self.user_ns)\n"
     ]
    },
    {
     "data": {
      "text/plain": [
       "(0, 17)"
      ]
     },
     "metadata": {},
     "output_type": "display_data"
    },
    {
     "data": {
      "text/html": [
       "<div>\n",
       "<style scoped>\n",
       "    .dataframe tbody tr th:only-of-type {\n",
       "        vertical-align: middle;\n",
       "    }\n",
       "\n",
       "    .dataframe tbody tr th {\n",
       "        vertical-align: top;\n",
       "    }\n",
       "\n",
       "    .dataframe thead th {\n",
       "        text-align: right;\n",
       "    }\n",
       "</style>\n",
       "<table border=\"1\" class=\"dataframe\">\n",
       "  <thead>\n",
       "    <tr style=\"text-align: right;\">\n",
       "      <th></th>\n",
       "      <th>Unnamed: 0</th>\n",
       "      <th>id</th>\n",
       "      <th>domain</th>\n",
       "      <th>type</th>\n",
       "      <th>url</th>\n",
       "      <th>content</th>\n",
       "      <th>scraped_at</th>\n",
       "      <th>inserted_at</th>\n",
       "      <th>updated_at</th>\n",
       "      <th>title</th>\n",
       "      <th>authors</th>\n",
       "      <th>keywords</th>\n",
       "      <th>meta_keywords</th>\n",
       "      <th>meta_description</th>\n",
       "      <th>tags</th>\n",
       "      <th>summary</th>\n",
       "      <th>source</th>\n",
       "    </tr>\n",
       "  </thead>\n",
       "  <tbody>\n",
       "  </tbody>\n",
       "</table>\n",
       "</div>"
      ],
      "text/plain": [
       "Empty DataFrame\n",
       "Columns: [Unnamed: 0, id, domain, type, url, content, scraped_at, inserted_at, updated_at, title, authors, keywords, meta_keywords, meta_description, tags, summary, source]\n",
       "Index: []"
      ]
     },
     "metadata": {},
     "output_type": "display_data"
    },
    {
     "data": {
      "text/plain": [
       "(1000000, 17)"
      ]
     },
     "metadata": {},
     "output_type": "display_data"
    },
    {
     "data": {
      "text/html": [
       "<div>\n",
       "<style scoped>\n",
       "    .dataframe tbody tr th:only-of-type {\n",
       "        vertical-align: middle;\n",
       "    }\n",
       "\n",
       "    .dataframe tbody tr th {\n",
       "        vertical-align: top;\n",
       "    }\n",
       "\n",
       "    .dataframe thead th {\n",
       "        text-align: right;\n",
       "    }\n",
       "</style>\n",
       "<table border=\"1\" class=\"dataframe\">\n",
       "  <thead>\n",
       "    <tr style=\"text-align: right;\">\n",
       "      <th></th>\n",
       "      <th>Unnamed: 0</th>\n",
       "      <th>id</th>\n",
       "      <th>domain</th>\n",
       "      <th>type</th>\n",
       "      <th>url</th>\n",
       "      <th>content</th>\n",
       "      <th>scraped_at</th>\n",
       "      <th>inserted_at</th>\n",
       "      <th>updated_at</th>\n",
       "      <th>title</th>\n",
       "      <th>authors</th>\n",
       "      <th>keywords</th>\n",
       "      <th>meta_keywords</th>\n",
       "      <th>meta_description</th>\n",
       "      <th>tags</th>\n",
       "      <th>summary</th>\n",
       "      <th>source</th>\n",
       "    </tr>\n",
       "  </thead>\n",
       "  <tbody>\n",
       "    <tr>\n",
       "      <th>0</th>\n",
       "      <td>9848</td>\n",
       "      <td>8348907</td>\n",
       "      <td>nytimes.com</td>\n",
       "      <td>reliable</td>\n",
       "      <td>https://www.nytimes.com/2000/02/24/opinion/l-p...</td>\n",
       "      <td>To the Editor:\\n\\nThe rags-to-riches myth decr...</td>\n",
       "      <td>2018-02-11 00:34:53.230738</td>\n",
       "      <td>2018-02-11 00:14:20.346838</td>\n",
       "      <td>2018-02-11 00:14:20.346871</td>\n",
       "      <td>Poverty and Rising Tides</td>\n",
       "      <td>NaN</td>\n",
       "      <td>NaN</td>\n",
       "      <td>['WEINSTEIN  MICHAEL M', 'REAGAN  RONALD WILSO...</td>\n",
       "      <td>Leonard M Greene letter disputes Michael M Wei...</td>\n",
       "      <td>NaN</td>\n",
       "      <td>NaN</td>\n",
       "      <td>nytimes</td>\n",
       "    </tr>\n",
       "    <tr>\n",
       "      <th>1</th>\n",
       "      <td>9849</td>\n",
       "      <td>8348908</td>\n",
       "      <td>nytimes.com</td>\n",
       "      <td>reliable</td>\n",
       "      <td>https://www.nytimes.com/2000/02/24/us/the-2000...</td>\n",
       "      <td>Mr. McCain's maverick message of campaign fina...</td>\n",
       "      <td>2018-02-11 00:34:53.230864</td>\n",
       "      <td>2018-02-11 00:14:20.346838</td>\n",
       "      <td>2018-02-11 00:14:20.346871</td>\n",
       "      <td>Only Republicans Can Help McCain Win in Califo...</td>\n",
       "      <td>Todd S. Purdum</td>\n",
       "      <td>NaN</td>\n",
       "      <td>['CALIFORNIA', 'MCCAIN  JOHN', 'BUSH  GEORGE W...</td>\n",
       "      <td>Sen John McCain's improbable quest has been to...</td>\n",
       "      <td>NaN</td>\n",
       "      <td>NaN</td>\n",
       "      <td>nytimes</td>\n",
       "    </tr>\n",
       "    <tr>\n",
       "      <th>2</th>\n",
       "      <td>9850</td>\n",
       "      <td>8348909</td>\n",
       "      <td>nytimes.com</td>\n",
       "      <td>reliable</td>\n",
       "      <td>https://www.nytimes.com/2000/02/24/garden/desi...</td>\n",
       "      <td>''We wanted to materialize the shadows and lig...</td>\n",
       "      <td>2018-02-11 00:34:53.230946</td>\n",
       "      <td>2018-02-11 00:14:20.346838</td>\n",
       "      <td>2018-02-11 00:14:20.346871</td>\n",
       "      <td>Little by Little, a California Dream Materializes</td>\n",
       "      <td>Joseph Giovannini</td>\n",
       "      <td>NaN</td>\n",
       "      <td>['VENICE (CALIF)', 'FONTIVEROS  JOSE', 'BOCTOR...</td>\n",
       "      <td>Marianna Boctor and Jose Fontiveros, architect...</td>\n",
       "      <td>NaN</td>\n",
       "      <td>NaN</td>\n",
       "      <td>nytimes</td>\n",
       "    </tr>\n",
       "    <tr>\n",
       "      <th>3</th>\n",
       "      <td>9851</td>\n",
       "      <td>8348910</td>\n",
       "      <td>nytimes.com</td>\n",
       "      <td>reliable</td>\n",
       "      <td>https://www.nytimes.com/2000/02/24/garden/reta...</td>\n",
       "      <td>CB2's 6,000 square feet stand on the north end...</td>\n",
       "      <td>2018-02-11 00:34:53.231092</td>\n",
       "      <td>2018-02-11 00:14:20.346838</td>\n",
       "      <td>2018-02-11 00:14:20.346871</td>\n",
       "      <td>Retailers Are Rushing To Feather Gen Nest</td>\n",
       "      <td>Rick Marin</td>\n",
       "      <td>NaN</td>\n",
       "      <td>['TARGET CORP', 'CRATE &amp; BARREL', 'WILLIAMS-SO...</td>\n",
       "      <td>Upscale home furnishings retailers, such as Cr...</td>\n",
       "      <td>NaN</td>\n",
       "      <td>NaN</td>\n",
       "      <td>nytimes</td>\n",
       "    </tr>\n",
       "    <tr>\n",
       "      <th>4</th>\n",
       "      <td>9852</td>\n",
       "      <td>8348911</td>\n",
       "      <td>nytimes.com</td>\n",
       "      <td>reliable</td>\n",
       "      <td>https://www.nytimes.com/2000/02/24/business/wo...</td>\n",
       "      <td>European Union regulators may delay a ruling f...</td>\n",
       "      <td>2018-02-11 00:34:53.231164</td>\n",
       "      <td>2018-02-11 00:14:20.346838</td>\n",
       "      <td>2018-02-11 00:14:20.346871</td>\n",
       "      <td>POSSIBLE DELAY ON MERGER</td>\n",
       "      <td>Alan Cowell</td>\n",
       "      <td>NaN</td>\n",
       "      <td>['EUROPEAN UNION', 'VODAFONE AIRTOUCH PLC', 'M...</td>\n",
       "      <td>European Union regulators may delay for up to ...</td>\n",
       "      <td>NaN</td>\n",
       "      <td>NaN</td>\n",
       "      <td>nytimes</td>\n",
       "    </tr>\n",
       "  </tbody>\n",
       "</table>\n",
       "</div>"
      ],
      "text/plain": [
       "   Unnamed: 0       id       domain      type  \\\n",
       "0        9848  8348907  nytimes.com  reliable   \n",
       "1        9849  8348908  nytimes.com  reliable   \n",
       "2        9850  8348909  nytimes.com  reliable   \n",
       "3        9851  8348910  nytimes.com  reliable   \n",
       "4        9852  8348911  nytimes.com  reliable   \n",
       "\n",
       "                                                 url  \\\n",
       "0  https://www.nytimes.com/2000/02/24/opinion/l-p...   \n",
       "1  https://www.nytimes.com/2000/02/24/us/the-2000...   \n",
       "2  https://www.nytimes.com/2000/02/24/garden/desi...   \n",
       "3  https://www.nytimes.com/2000/02/24/garden/reta...   \n",
       "4  https://www.nytimes.com/2000/02/24/business/wo...   \n",
       "\n",
       "                                             content  \\\n",
       "0  To the Editor:\\n\\nThe rags-to-riches myth decr...   \n",
       "1  Mr. McCain's maverick message of campaign fina...   \n",
       "2  ''We wanted to materialize the shadows and lig...   \n",
       "3  CB2's 6,000 square feet stand on the north end...   \n",
       "4  European Union regulators may delay a ruling f...   \n",
       "\n",
       "                   scraped_at                 inserted_at  \\\n",
       "0  2018-02-11 00:34:53.230738  2018-02-11 00:14:20.346838   \n",
       "1  2018-02-11 00:34:53.230864  2018-02-11 00:14:20.346838   \n",
       "2  2018-02-11 00:34:53.230946  2018-02-11 00:14:20.346838   \n",
       "3  2018-02-11 00:34:53.231092  2018-02-11 00:14:20.346838   \n",
       "4  2018-02-11 00:34:53.231164  2018-02-11 00:14:20.346838   \n",
       "\n",
       "                   updated_at  \\\n",
       "0  2018-02-11 00:14:20.346871   \n",
       "1  2018-02-11 00:14:20.346871   \n",
       "2  2018-02-11 00:14:20.346871   \n",
       "3  2018-02-11 00:14:20.346871   \n",
       "4  2018-02-11 00:14:20.346871   \n",
       "\n",
       "                                               title            authors  \\\n",
       "0                           Poverty and Rising Tides                NaN   \n",
       "1  Only Republicans Can Help McCain Win in Califo...     Todd S. Purdum   \n",
       "2  Little by Little, a California Dream Materializes  Joseph Giovannini   \n",
       "3          Retailers Are Rushing To Feather Gen Nest         Rick Marin   \n",
       "4                           POSSIBLE DELAY ON MERGER        Alan Cowell   \n",
       "\n",
       "   keywords                                      meta_keywords  \\\n",
       "0       NaN  ['WEINSTEIN  MICHAEL M', 'REAGAN  RONALD WILSO...   \n",
       "1       NaN  ['CALIFORNIA', 'MCCAIN  JOHN', 'BUSH  GEORGE W...   \n",
       "2       NaN  ['VENICE (CALIF)', 'FONTIVEROS  JOSE', 'BOCTOR...   \n",
       "3       NaN  ['TARGET CORP', 'CRATE & BARREL', 'WILLIAMS-SO...   \n",
       "4       NaN  ['EUROPEAN UNION', 'VODAFONE AIRTOUCH PLC', 'M...   \n",
       "\n",
       "                                    meta_description tags  summary   source  \n",
       "0  Leonard M Greene letter disputes Michael M Wei...  NaN      NaN  nytimes  \n",
       "1  Sen John McCain's improbable quest has been to...  NaN      NaN  nytimes  \n",
       "2  Marianna Boctor and Jose Fontiveros, architect...  NaN      NaN  nytimes  \n",
       "3  Upscale home furnishings retailers, such as Cr...  NaN      NaN  nytimes  \n",
       "4  European Union regulators may delay for up to ...  NaN      NaN  nytimes  "
      ]
     },
     "metadata": {},
     "output_type": "display_data"
    }
   ],
   "source": [
    "news_path = \"../ML-data/news_cleaned_2018_02_13.csv\"\n",
    "\n",
    "df_news = pd.read_csv(news_path, sep=',', skiprows=range(1, 7_000_000), nrows=1_000_000)\n",
    "\n",
    "#view = get_view(df_news, plan_tuple[0])\n",
    "#display(view.head())\n",
    "\n",
    "df_fake_news_view = df_news[df_news[\"type\"] == \"fake\"]\n",
    "df_reliable_news_view = df_news[df_news[\"type\"] == \"reliable\"]\n",
    "\n",
    "display(df_fake_news_view.shape)\n",
    "display(df_fake_news_view.head())\n",
    "\n",
    "display(df_reliable_news_view.shape)\n",
    "display(df_reliable_news_view.head())"
   ]
  },
  {
   "cell_type": "code",
   "execution_count": 5,
   "id": "d23d1a59",
   "metadata": {},
   "outputs": [],
   "source": [
    "df_news.to_csv(f'./export/news_mostly_reliable_1M_skip_7M.csv', index=False)"
   ]
  },
  {
   "cell_type": "code",
   "execution_count": 6,
   "id": "ee0299e8",
   "metadata": {},
   "outputs": [
    {
     "name": "stderr",
     "output_type": "stream",
     "text": [
      "c:\\Users\\Elias\\miniconda3\\envs\\py37env\\lib\\site-packages\\IPython\\core\\interactiveshell.py:3457: DtypeWarning: Columns (14) have mixed types.Specify dtype option on import or set low_memory=False.\n",
      "  exec(code_obj, self.user_global_ns, self.user_ns)\n"
     ]
    }
   ],
   "source": [
    "rel = \"../ML-code/export/news_mostly_reliable_1M_skip_7M.csv\"\n",
    "\n",
    "df_news = pd.read_csv(rel, sep=',')"
   ]
  },
  {
   "cell_type": "code",
   "execution_count": 7,
   "id": "57b206de",
   "metadata": {},
   "outputs": [
    {
     "data": {
      "text/plain": [
       "(1000000, 17)"
      ]
     },
     "metadata": {},
     "output_type": "display_data"
    },
    {
     "data": {
      "text/html": [
       "<div>\n",
       "<style scoped>\n",
       "    .dataframe tbody tr th:only-of-type {\n",
       "        vertical-align: middle;\n",
       "    }\n",
       "\n",
       "    .dataframe tbody tr th {\n",
       "        vertical-align: top;\n",
       "    }\n",
       "\n",
       "    .dataframe thead th {\n",
       "        text-align: right;\n",
       "    }\n",
       "</style>\n",
       "<table border=\"1\" class=\"dataframe\">\n",
       "  <thead>\n",
       "    <tr style=\"text-align: right;\">\n",
       "      <th></th>\n",
       "      <th>Unnamed: 0</th>\n",
       "      <th>id</th>\n",
       "      <th>domain</th>\n",
       "      <th>type</th>\n",
       "      <th>url</th>\n",
       "      <th>content</th>\n",
       "      <th>scraped_at</th>\n",
       "      <th>inserted_at</th>\n",
       "      <th>updated_at</th>\n",
       "      <th>title</th>\n",
       "      <th>authors</th>\n",
       "      <th>keywords</th>\n",
       "      <th>meta_keywords</th>\n",
       "      <th>meta_description</th>\n",
       "      <th>tags</th>\n",
       "      <th>summary</th>\n",
       "      <th>source</th>\n",
       "    </tr>\n",
       "  </thead>\n",
       "  <tbody>\n",
       "    <tr>\n",
       "      <th>0</th>\n",
       "      <td>9848</td>\n",
       "      <td>8348907</td>\n",
       "      <td>nytimes.com</td>\n",
       "      <td>reliable</td>\n",
       "      <td>https://www.nytimes.com/2000/02/24/opinion/l-p...</td>\n",
       "      <td>To the Editor:\\n\\nThe rags-to-riches myth decr...</td>\n",
       "      <td>2018-02-11 00:34:53.230738</td>\n",
       "      <td>2018-02-11 00:14:20.346838</td>\n",
       "      <td>2018-02-11 00:14:20.346871</td>\n",
       "      <td>Poverty and Rising Tides</td>\n",
       "      <td>NaN</td>\n",
       "      <td>NaN</td>\n",
       "      <td>['WEINSTEIN  MICHAEL M', 'REAGAN  RONALD WILSO...</td>\n",
       "      <td>Leonard M Greene letter disputes Michael M Wei...</td>\n",
       "      <td>NaN</td>\n",
       "      <td>NaN</td>\n",
       "      <td>nytimes</td>\n",
       "    </tr>\n",
       "    <tr>\n",
       "      <th>1</th>\n",
       "      <td>9849</td>\n",
       "      <td>8348908</td>\n",
       "      <td>nytimes.com</td>\n",
       "      <td>reliable</td>\n",
       "      <td>https://www.nytimes.com/2000/02/24/us/the-2000...</td>\n",
       "      <td>Mr. McCain's maverick message of campaign fina...</td>\n",
       "      <td>2018-02-11 00:34:53.230864</td>\n",
       "      <td>2018-02-11 00:14:20.346838</td>\n",
       "      <td>2018-02-11 00:14:20.346871</td>\n",
       "      <td>Only Republicans Can Help McCain Win in Califo...</td>\n",
       "      <td>Todd S. Purdum</td>\n",
       "      <td>NaN</td>\n",
       "      <td>['CALIFORNIA', 'MCCAIN  JOHN', 'BUSH  GEORGE W...</td>\n",
       "      <td>Sen John McCain's improbable quest has been to...</td>\n",
       "      <td>NaN</td>\n",
       "      <td>NaN</td>\n",
       "      <td>nytimes</td>\n",
       "    </tr>\n",
       "    <tr>\n",
       "      <th>2</th>\n",
       "      <td>9850</td>\n",
       "      <td>8348909</td>\n",
       "      <td>nytimes.com</td>\n",
       "      <td>reliable</td>\n",
       "      <td>https://www.nytimes.com/2000/02/24/garden/desi...</td>\n",
       "      <td>''We wanted to materialize the shadows and lig...</td>\n",
       "      <td>2018-02-11 00:34:53.230946</td>\n",
       "      <td>2018-02-11 00:14:20.346838</td>\n",
       "      <td>2018-02-11 00:14:20.346871</td>\n",
       "      <td>Little by Little, a California Dream Materializes</td>\n",
       "      <td>Joseph Giovannini</td>\n",
       "      <td>NaN</td>\n",
       "      <td>['VENICE (CALIF)', 'FONTIVEROS  JOSE', 'BOCTOR...</td>\n",
       "      <td>Marianna Boctor and Jose Fontiveros, architect...</td>\n",
       "      <td>NaN</td>\n",
       "      <td>NaN</td>\n",
       "      <td>nytimes</td>\n",
       "    </tr>\n",
       "    <tr>\n",
       "      <th>3</th>\n",
       "      <td>9851</td>\n",
       "      <td>8348910</td>\n",
       "      <td>nytimes.com</td>\n",
       "      <td>reliable</td>\n",
       "      <td>https://www.nytimes.com/2000/02/24/garden/reta...</td>\n",
       "      <td>CB2's 6,000 square feet stand on the north end...</td>\n",
       "      <td>2018-02-11 00:34:53.231092</td>\n",
       "      <td>2018-02-11 00:14:20.346838</td>\n",
       "      <td>2018-02-11 00:14:20.346871</td>\n",
       "      <td>Retailers Are Rushing To Feather Gen Nest</td>\n",
       "      <td>Rick Marin</td>\n",
       "      <td>NaN</td>\n",
       "      <td>['TARGET CORP', 'CRATE &amp; BARREL', 'WILLIAMS-SO...</td>\n",
       "      <td>Upscale home furnishings retailers, such as Cr...</td>\n",
       "      <td>NaN</td>\n",
       "      <td>NaN</td>\n",
       "      <td>nytimes</td>\n",
       "    </tr>\n",
       "    <tr>\n",
       "      <th>4</th>\n",
       "      <td>9852</td>\n",
       "      <td>8348911</td>\n",
       "      <td>nytimes.com</td>\n",
       "      <td>reliable</td>\n",
       "      <td>https://www.nytimes.com/2000/02/24/business/wo...</td>\n",
       "      <td>European Union regulators may delay a ruling f...</td>\n",
       "      <td>2018-02-11 00:34:53.231164</td>\n",
       "      <td>2018-02-11 00:14:20.346838</td>\n",
       "      <td>2018-02-11 00:14:20.346871</td>\n",
       "      <td>POSSIBLE DELAY ON MERGER</td>\n",
       "      <td>Alan Cowell</td>\n",
       "      <td>NaN</td>\n",
       "      <td>['EUROPEAN UNION', 'VODAFONE AIRTOUCH PLC', 'M...</td>\n",
       "      <td>European Union regulators may delay for up to ...</td>\n",
       "      <td>NaN</td>\n",
       "      <td>NaN</td>\n",
       "      <td>nytimes</td>\n",
       "    </tr>\n",
       "    <tr>\n",
       "      <th>...</th>\n",
       "      <td>...</td>\n",
       "      <td>...</td>\n",
       "      <td>...</td>\n",
       "      <td>...</td>\n",
       "      <td>...</td>\n",
       "      <td>...</td>\n",
       "      <td>...</td>\n",
       "      <td>...</td>\n",
       "      <td>...</td>\n",
       "      <td>...</td>\n",
       "      <td>...</td>\n",
       "      <td>...</td>\n",
       "      <td>...</td>\n",
       "      <td>...</td>\n",
       "      <td>...</td>\n",
       "      <td>...</td>\n",
       "      <td>...</td>\n",
       "    </tr>\n",
       "    <tr>\n",
       "      <th>999995</th>\n",
       "      <td>9843</td>\n",
       "      <td>9348905</td>\n",
       "      <td>nytimes.com</td>\n",
       "      <td>reliable</td>\n",
       "      <td>https://www.nytimes.com/2010/08/03/world/middl...</td>\n",
       "      <td>Photo\\n\\nAQABA, Jordan — A mysterious rocket t...</td>\n",
       "      <td>2018-02-11 00:44:32.784102</td>\n",
       "      <td>2018-02-11 00:14:20.346838</td>\n",
       "      <td>2018-02-11 00:14:20.346871</td>\n",
       "      <td>Rocket Hits Resort on Border of Jordan and Israel</td>\n",
       "      <td>Stephen Farrell, Isabel Kershner</td>\n",
       "      <td>NaN</td>\n",
       "      <td>['Israel', 'Jordan', 'Rockets and Rocket Propu...</td>\n",
       "      <td>A rocket that was likely meant for Israel also...</td>\n",
       "      <td>NaN</td>\n",
       "      <td>NaN</td>\n",
       "      <td>nytimes</td>\n",
       "    </tr>\n",
       "    <tr>\n",
       "      <th>999996</th>\n",
       "      <td>9844</td>\n",
       "      <td>9348906</td>\n",
       "      <td>nytimes.com</td>\n",
       "      <td>reliable</td>\n",
       "      <td>https://www.nytimes.com/2010/08/03/world/asia/...</td>\n",
       "      <td>SEOUL, South Korea — After meeting Monday with...</td>\n",
       "      <td>2018-02-11 00:44:32.784174</td>\n",
       "      <td>2018-02-11 00:14:20.346838</td>\n",
       "      <td>2018-02-11 00:14:20.346871</td>\n",
       "      <td>U.S. Envoy Holds Talks on North Korea Sanctions</td>\n",
       "      <td>Choe Sang-Hun</td>\n",
       "      <td>NaN</td>\n",
       "      <td>['North Korea', 'Nuclear Weapons']</td>\n",
       "      <td>In Seoul on Monday, Robert Einhorn vowed to ra...</td>\n",
       "      <td>NaN</td>\n",
       "      <td>NaN</td>\n",
       "      <td>nytimes</td>\n",
       "    </tr>\n",
       "    <tr>\n",
       "      <th>999997</th>\n",
       "      <td>9845</td>\n",
       "      <td>9348907</td>\n",
       "      <td>nytimes.com</td>\n",
       "      <td>reliable</td>\n",
       "      <td>https://query.nytimes.com/gst/fullpage.html?re...</td>\n",
       "      <td>CRANE--Sarah. The Board of Directors of Planne...</td>\n",
       "      <td>2018-02-11 00:44:32.784230</td>\n",
       "      <td>2018-02-11 00:14:20.346838</td>\n",
       "      <td>2018-02-11 00:14:20.346871</td>\n",
       "      <td>Paid Notice: Deaths  CRANE, SARAH</td>\n",
       "      <td>NaN</td>\n",
       "      <td>NaN</td>\n",
       "      <td>['CRANE  SARAH']</td>\n",
       "      <td>CRANE--Sarah. The Board of Directors of Planne...</td>\n",
       "      <td>NaN</td>\n",
       "      <td>NaN</td>\n",
       "      <td>nytimes</td>\n",
       "    </tr>\n",
       "    <tr>\n",
       "      <th>999998</th>\n",
       "      <td>9846</td>\n",
       "      <td>9348908</td>\n",
       "      <td>nytimes.com</td>\n",
       "      <td>reliable</td>\n",
       "      <td>https://query.nytimes.com/gst/fullpage.html?re...</td>\n",
       "      <td>Although July fell just short of being the hot...</td>\n",
       "      <td>2018-02-11 00:44:32.784321</td>\n",
       "      <td>2018-02-11 00:14:20.346838</td>\n",
       "      <td>2018-02-11 00:14:20.346871</td>\n",
       "      <td>July Missed Record for Heat, But Set One for P...</td>\n",
       "      <td>NaN</td>\n",
       "      <td>NaN</td>\n",
       "      <td>['Weather', 'Electric Light and Power', 'Mcgee...</td>\n",
       "      <td>Although July fell just short of being the hot...</td>\n",
       "      <td>NaN</td>\n",
       "      <td>NaN</td>\n",
       "      <td>nytimes</td>\n",
       "    </tr>\n",
       "    <tr>\n",
       "      <th>999999</th>\n",
       "      <td>9847</td>\n",
       "      <td>9348909</td>\n",
       "      <td>nytimes.com</td>\n",
       "      <td>reliable</td>\n",
       "      <td>https://query.nytimes.com/gst/fullpage.html?re...</td>\n",
       "      <td>ANDERSON--Gene. The staff, faculty and Advisor...</td>\n",
       "      <td>2018-02-11 00:44:32.784416</td>\n",
       "      <td>2018-02-11 00:14:20.346838</td>\n",
       "      <td>2018-02-11 00:14:20.346871</td>\n",
       "      <td>Paid Notice: Deaths  ANDERSON, GENE</td>\n",
       "      <td>NaN</td>\n",
       "      <td>NaN</td>\n",
       "      <td>['ANDERSON  GENE']</td>\n",
       "      <td>ANDERSON--Gene. The staff, faculty and Advisor...</td>\n",
       "      <td>NaN</td>\n",
       "      <td>NaN</td>\n",
       "      <td>nytimes</td>\n",
       "    </tr>\n",
       "  </tbody>\n",
       "</table>\n",
       "<p>1000000 rows × 17 columns</p>\n",
       "</div>"
      ],
      "text/plain": [
       "        Unnamed: 0       id       domain      type  \\\n",
       "0             9848  8348907  nytimes.com  reliable   \n",
       "1             9849  8348908  nytimes.com  reliable   \n",
       "2             9850  8348909  nytimes.com  reliable   \n",
       "3             9851  8348910  nytimes.com  reliable   \n",
       "4             9852  8348911  nytimes.com  reliable   \n",
       "...            ...      ...          ...       ...   \n",
       "999995        9843  9348905  nytimes.com  reliable   \n",
       "999996        9844  9348906  nytimes.com  reliable   \n",
       "999997        9845  9348907  nytimes.com  reliable   \n",
       "999998        9846  9348908  nytimes.com  reliable   \n",
       "999999        9847  9348909  nytimes.com  reliable   \n",
       "\n",
       "                                                      url  \\\n",
       "0       https://www.nytimes.com/2000/02/24/opinion/l-p...   \n",
       "1       https://www.nytimes.com/2000/02/24/us/the-2000...   \n",
       "2       https://www.nytimes.com/2000/02/24/garden/desi...   \n",
       "3       https://www.nytimes.com/2000/02/24/garden/reta...   \n",
       "4       https://www.nytimes.com/2000/02/24/business/wo...   \n",
       "...                                                   ...   \n",
       "999995  https://www.nytimes.com/2010/08/03/world/middl...   \n",
       "999996  https://www.nytimes.com/2010/08/03/world/asia/...   \n",
       "999997  https://query.nytimes.com/gst/fullpage.html?re...   \n",
       "999998  https://query.nytimes.com/gst/fullpage.html?re...   \n",
       "999999  https://query.nytimes.com/gst/fullpage.html?re...   \n",
       "\n",
       "                                                  content  \\\n",
       "0       To the Editor:\\n\\nThe rags-to-riches myth decr...   \n",
       "1       Mr. McCain's maverick message of campaign fina...   \n",
       "2       ''We wanted to materialize the shadows and lig...   \n",
       "3       CB2's 6,000 square feet stand on the north end...   \n",
       "4       European Union regulators may delay a ruling f...   \n",
       "...                                                   ...   \n",
       "999995  Photo\\n\\nAQABA, Jordan — A mysterious rocket t...   \n",
       "999996  SEOUL, South Korea — After meeting Monday with...   \n",
       "999997  CRANE--Sarah. The Board of Directors of Planne...   \n",
       "999998  Although July fell just short of being the hot...   \n",
       "999999  ANDERSON--Gene. The staff, faculty and Advisor...   \n",
       "\n",
       "                        scraped_at                 inserted_at  \\\n",
       "0       2018-02-11 00:34:53.230738  2018-02-11 00:14:20.346838   \n",
       "1       2018-02-11 00:34:53.230864  2018-02-11 00:14:20.346838   \n",
       "2       2018-02-11 00:34:53.230946  2018-02-11 00:14:20.346838   \n",
       "3       2018-02-11 00:34:53.231092  2018-02-11 00:14:20.346838   \n",
       "4       2018-02-11 00:34:53.231164  2018-02-11 00:14:20.346838   \n",
       "...                            ...                         ...   \n",
       "999995  2018-02-11 00:44:32.784102  2018-02-11 00:14:20.346838   \n",
       "999996  2018-02-11 00:44:32.784174  2018-02-11 00:14:20.346838   \n",
       "999997  2018-02-11 00:44:32.784230  2018-02-11 00:14:20.346838   \n",
       "999998  2018-02-11 00:44:32.784321  2018-02-11 00:14:20.346838   \n",
       "999999  2018-02-11 00:44:32.784416  2018-02-11 00:14:20.346838   \n",
       "\n",
       "                        updated_at  \\\n",
       "0       2018-02-11 00:14:20.346871   \n",
       "1       2018-02-11 00:14:20.346871   \n",
       "2       2018-02-11 00:14:20.346871   \n",
       "3       2018-02-11 00:14:20.346871   \n",
       "4       2018-02-11 00:14:20.346871   \n",
       "...                            ...   \n",
       "999995  2018-02-11 00:14:20.346871   \n",
       "999996  2018-02-11 00:14:20.346871   \n",
       "999997  2018-02-11 00:14:20.346871   \n",
       "999998  2018-02-11 00:14:20.346871   \n",
       "999999  2018-02-11 00:14:20.346871   \n",
       "\n",
       "                                                    title  \\\n",
       "0                                Poverty and Rising Tides   \n",
       "1       Only Republicans Can Help McCain Win in Califo...   \n",
       "2       Little by Little, a California Dream Materializes   \n",
       "3               Retailers Are Rushing To Feather Gen Nest   \n",
       "4                                POSSIBLE DELAY ON MERGER   \n",
       "...                                                   ...   \n",
       "999995  Rocket Hits Resort on Border of Jordan and Israel   \n",
       "999996    U.S. Envoy Holds Talks on North Korea Sanctions   \n",
       "999997                  Paid Notice: Deaths  CRANE, SARAH   \n",
       "999998  July Missed Record for Heat, But Set One for P...   \n",
       "999999                Paid Notice: Deaths  ANDERSON, GENE   \n",
       "\n",
       "                                 authors  keywords  \\\n",
       "0                                    NaN       NaN   \n",
       "1                         Todd S. Purdum       NaN   \n",
       "2                      Joseph Giovannini       NaN   \n",
       "3                             Rick Marin       NaN   \n",
       "4                            Alan Cowell       NaN   \n",
       "...                                  ...       ...   \n",
       "999995  Stephen Farrell, Isabel Kershner       NaN   \n",
       "999996                     Choe Sang-Hun       NaN   \n",
       "999997                               NaN       NaN   \n",
       "999998                               NaN       NaN   \n",
       "999999                               NaN       NaN   \n",
       "\n",
       "                                            meta_keywords  \\\n",
       "0       ['WEINSTEIN  MICHAEL M', 'REAGAN  RONALD WILSO...   \n",
       "1       ['CALIFORNIA', 'MCCAIN  JOHN', 'BUSH  GEORGE W...   \n",
       "2       ['VENICE (CALIF)', 'FONTIVEROS  JOSE', 'BOCTOR...   \n",
       "3       ['TARGET CORP', 'CRATE & BARREL', 'WILLIAMS-SO...   \n",
       "4       ['EUROPEAN UNION', 'VODAFONE AIRTOUCH PLC', 'M...   \n",
       "...                                                   ...   \n",
       "999995  ['Israel', 'Jordan', 'Rockets and Rocket Propu...   \n",
       "999996                 ['North Korea', 'Nuclear Weapons']   \n",
       "999997                                   ['CRANE  SARAH']   \n",
       "999998  ['Weather', 'Electric Light and Power', 'Mcgee...   \n",
       "999999                                 ['ANDERSON  GENE']   \n",
       "\n",
       "                                         meta_description tags  summary  \\\n",
       "0       Leonard M Greene letter disputes Michael M Wei...  NaN      NaN   \n",
       "1       Sen John McCain's improbable quest has been to...  NaN      NaN   \n",
       "2       Marianna Boctor and Jose Fontiveros, architect...  NaN      NaN   \n",
       "3       Upscale home furnishings retailers, such as Cr...  NaN      NaN   \n",
       "4       European Union regulators may delay for up to ...  NaN      NaN   \n",
       "...                                                   ...  ...      ...   \n",
       "999995  A rocket that was likely meant for Israel also...  NaN      NaN   \n",
       "999996  In Seoul on Monday, Robert Einhorn vowed to ra...  NaN      NaN   \n",
       "999997  CRANE--Sarah. The Board of Directors of Planne...  NaN      NaN   \n",
       "999998  Although July fell just short of being the hot...  NaN      NaN   \n",
       "999999  ANDERSON--Gene. The staff, faculty and Advisor...  NaN      NaN   \n",
       "\n",
       "         source  \n",
       "0       nytimes  \n",
       "1       nytimes  \n",
       "2       nytimes  \n",
       "3       nytimes  \n",
       "4       nytimes  \n",
       "...         ...  \n",
       "999995  nytimes  \n",
       "999996  nytimes  \n",
       "999997  nytimes  \n",
       "999998  nytimes  \n",
       "999999  nytimes  \n",
       "\n",
       "[1000000 rows x 17 columns]"
      ]
     },
     "metadata": {},
     "output_type": "display_data"
    }
   ],
   "source": [
    "display(df_news.shape)\n",
    "display(df_news)"
   ]
  },
  {
   "cell_type": "code",
   "execution_count": 119,
   "id": "d47d644a",
   "metadata": {},
   "outputs": [
    {
     "data": {
      "text/plain": [
       "'Counting True...'"
      ]
     },
     "metadata": {},
     "output_type": "display_data"
    },
    {
     "data": {
      "application/vnd.jupyter.widget-view+json": {
       "model_id": "6d9d91665ca24629bd778db68976516f",
       "version_major": 2,
       "version_minor": 0
      },
      "text/plain": [
       "VBox(children=(HBox(children=(IntProgress(value=0, description='0.00%', max=1), Label(value='0 / 1'))), HBox(c…"
      ]
     },
     "metadata": {},
     "output_type": "display_data"
    },
    {
     "data": {
      "text/plain": [
       "content    {'BERGMAN': 7, 'Irene': 417, 'W.': 4291, 'die'...\n",
       "content    {'LEVINSON': 20, 'Harry': 2091, '74': 814, 'Mo...\n",
       "content    {'GWATHMEY': 2, 'Charles': 4410, 'hear': 13578...\n",
       "content    {'FRIEDMAN': 68, 'Sol': 232, '99': 1242, 'ador...\n",
       "dtype: object"
      ]
     },
     "metadata": {},
     "output_type": "display_data"
    },
    {
     "data": {
      "text/plain": [
       "(4,)"
      ]
     },
     "metadata": {},
     "output_type": "display_data"
    },
    {
     "name": "stdout",
     "output_type": "stream",
     "text": [
      " ('\\n\\n', 5342670)     ('say', 1607264)     ('Mr.', 1188301)     ('New', 707928)      ('year', 641847)   \n"
     ]
    }
   ],
   "source": [
    "results = run_and_write_frequency_faster(True, view['content'], f\"{plan_tuple[2]}_rows_{view.shape[0]}\", False)"
   ]
  },
  {
   "cell_type": "code",
   "execution_count": 62,
   "id": "a346115e",
   "metadata": {},
   "outputs": [
    {
     "data": {
      "text/plain": [
       "list"
      ]
     },
     "metadata": {},
     "output_type": "display_data"
    },
    {
     "name": "stdout",
     "output_type": "stream",
     "text": [
      "Index: 0\n",
      "Value: Counter()\n"
     ]
    },
    {
     "ename": "AttributeError",
     "evalue": "'int' object has no attribute 'most_common'",
     "output_type": "error",
     "traceback": [
      "\u001b[1;31m---------------------------------------------------------------------------\u001b[0m",
      "\u001b[1;31mAttributeError\u001b[0m                            Traceback (most recent call last)",
      "\u001b[1;32m~\\AppData\\Local\\Temp\\ipykernel_19692\\3363462411.py\u001b[0m in \u001b[0;36m<module>\u001b[1;34m\u001b[0m\n\u001b[0;32m      8\u001b[0m \u001b[1;33m\u001b[0m\u001b[0m\n\u001b[0;32m      9\u001b[0m   \u001b[0mcounter_a\u001b[0m \u001b[1;33m=\u001b[0m \u001b[0mvalue\u001b[0m\u001b[1;33m[\u001b[0m\u001b[1;36m0\u001b[0m\u001b[1;33m]\u001b[0m\u001b[1;33m\u001b[0m\u001b[1;33m\u001b[0m\u001b[0m\n\u001b[1;32m---> 10\u001b[1;33m   \u001b[0mcounter_a\u001b[0m \u001b[1;33m=\u001b[0m \u001b[0mcounter_a\u001b[0m\u001b[1;33m.\u001b[0m\u001b[0mmost_common\u001b[0m\u001b[1;33m(\u001b[0m\u001b[1;33m)\u001b[0m\u001b[1;33m\u001b[0m\u001b[1;33m\u001b[0m\u001b[0m\n\u001b[0m\u001b[0;32m     11\u001b[0m   \u001b[0mdisplay\u001b[0m\u001b[1;33m(\u001b[0m\u001b[0mcounter_a\u001b[0m\u001b[1;33m)\u001b[0m\u001b[1;33m\u001b[0m\u001b[1;33m\u001b[0m\u001b[0m\n\u001b[0;32m     12\u001b[0m \u001b[1;33m\u001b[0m\u001b[0m\n",
      "\u001b[1;31mAttributeError\u001b[0m: 'int' object has no attribute 'most_common'"
     ]
    }
   ],
   "source": [
    "display(type(results))\n",
    "#display(results.shape)\n",
    "#display(results.head(1))\n",
    "\n",
    "for index, value in enumerate(results):\n",
    "  print(\"Index:\", index)\n",
    "  print(\"Value:\", value)\n",
    "\n",
    "  counter_a = value[0]\n",
    "  counter_a = counter_a.most_common()\n",
    "  display(counter_a)\n",
    "  "
   ]
  },
  {
   "cell_type": "code",
   "execution_count": null,
   "id": "97912094",
   "metadata": {},
   "outputs": [
    {
     "data": {
      "text/plain": [
       "(327869, 3)"
      ]
     },
     "metadata": {},
     "output_type": "display_data"
    },
    {
     "data": {
      "text/plain": [
       "(327869, 1)"
      ]
     },
     "metadata": {},
     "output_type": "display_data"
    },
    {
     "data": {
      "text/plain": [
       "\"Wrote <class 'type'> counts to fake_counts_part_3_3M_fixed\""
      ]
     },
     "metadata": {},
     "output_type": "display_data"
    }
   ],
   "source": [
    "df = pd.read_csv(\"./export/fake_counts_3M_2.csv\")\n",
    "display(df.shape)\n",
    "df_mod = pd.read_csv(\"./export/fake_counts_3_mod.csv\")\n",
    "display(df_mod.shape)\n",
    "replace_url_column(df, df_mod, \"fake_counts_part_3_3M_fixed\")\n",
    "\n"
   ]
  },
  {
   "cell_type": "code",
   "execution_count": null,
   "id": "132a4c73",
   "metadata": {},
   "outputs": [
    {
     "name": "stderr",
     "output_type": "stream",
     "text": [
      "c:\\Users\\Elias\\miniconda3\\envs\\py37env\\lib\\site-packages\\IPython\\core\\interactiveshell.py:3457: DtypeWarning: Columns (0,1,2,3,4,5,6,7,8,9,10,12,13,14) have mixed types.Specify dtype option on import or set low_memory=False.\n",
      "  exec(code_obj, self.user_global_ns, self.user_ns)\n"
     ]
    },
    {
     "data": {
      "text/html": [
       "<div>\n",
       "<style scoped>\n",
       "    .dataframe tbody tr th:only-of-type {\n",
       "        vertical-align: middle;\n",
       "    }\n",
       "\n",
       "    .dataframe tbody tr th {\n",
       "        vertical-align: top;\n",
       "    }\n",
       "\n",
       "    .dataframe thead th {\n",
       "        text-align: right;\n",
       "    }\n",
       "</style>\n",
       "<table border=\"1\" class=\"dataframe\">\n",
       "  <thead>\n",
       "    <tr style=\"text-align: right;\">\n",
       "      <th></th>\n",
       "      <th>Unnamed: 0</th>\n",
       "      <th>id</th>\n",
       "      <th>domain</th>\n",
       "      <th>type</th>\n",
       "      <th>url</th>\n",
       "      <th>content</th>\n",
       "      <th>scraped_at</th>\n",
       "      <th>inserted_at</th>\n",
       "      <th>updated_at</th>\n",
       "      <th>title</th>\n",
       "      <th>authors</th>\n",
       "      <th>keywords</th>\n",
       "      <th>meta_keywords</th>\n",
       "      <th>meta_description</th>\n",
       "      <th>tags</th>\n",
       "      <th>summary</th>\n",
       "      <th>source</th>\n",
       "    </tr>\n",
       "  </thead>\n",
       "  <tbody>\n",
       "    <tr>\n",
       "      <th>0</th>\n",
       "      <td>0</td>\n",
       "      <td>2</td>\n",
       "      <td>express.co.uk</td>\n",
       "      <td>rumor</td>\n",
       "      <td>https://www.express.co.uk/news/science/738402/...</td>\n",
       "      <td>Life is an illusion, at least on a quantum lev...</td>\n",
       "      <td>2018-01-25 16:17:44.789555</td>\n",
       "      <td>2018-02-02 01:19:41.756632</td>\n",
       "      <td>2018-02-02 01:19:41.756664</td>\n",
       "      <td>Is life an ILLUSION? Researchers prove 'realit...</td>\n",
       "      <td>Sean Martin</td>\n",
       "      <td>NaN</td>\n",
       "      <td>['']</td>\n",
       "      <td>THE UNIVERSE ceases to exist when we are not l...</td>\n",
       "      <td>NaN</td>\n",
       "      <td>NaN</td>\n",
       "      <td>NaN</td>\n",
       "    </tr>\n",
       "  </tbody>\n",
       "</table>\n",
       "</div>"
      ],
      "text/plain": [
       "  Unnamed: 0 id         domain   type  \\\n",
       "0          0  2  express.co.uk  rumor   \n",
       "\n",
       "                                                 url  \\\n",
       "0  https://www.express.co.uk/news/science/738402/...   \n",
       "\n",
       "                                             content  \\\n",
       "0  Life is an illusion, at least on a quantum lev...   \n",
       "\n",
       "                   scraped_at                 inserted_at  \\\n",
       "0  2018-01-25 16:17:44.789555  2018-02-02 01:19:41.756632   \n",
       "\n",
       "                   updated_at  \\\n",
       "0  2018-02-02 01:19:41.756664   \n",
       "\n",
       "                                               title      authors  keywords  \\\n",
       "0  Is life an ILLUSION? Researchers prove 'realit...  Sean Martin       NaN   \n",
       "\n",
       "  meta_keywords                                   meta_description tags  \\\n",
       "0          ['']  THE UNIVERSE ceases to exist when we are not l...  NaN   \n",
       "\n",
       "   summary  source  \n",
       "0      NaN     NaN  "
      ]
     },
     "metadata": {},
     "output_type": "display_data"
    },
    {
     "data": {
      "text/plain": [
       "(2000000, 17)"
      ]
     },
     "metadata": {},
     "output_type": "display_data"
    },
    {
     "data": {
      "text/html": [
       "<div>\n",
       "<style scoped>\n",
       "    .dataframe tbody tr th:only-of-type {\n",
       "        vertical-align: middle;\n",
       "    }\n",
       "\n",
       "    .dataframe tbody tr th {\n",
       "        vertical-align: top;\n",
       "    }\n",
       "\n",
       "    .dataframe thead th {\n",
       "        text-align: right;\n",
       "    }\n",
       "</style>\n",
       "<table border=\"1\" class=\"dataframe\">\n",
       "  <thead>\n",
       "    <tr style=\"text-align: right;\">\n",
       "      <th></th>\n",
       "      <th>id</th>\n",
       "      <th>type</th>\n",
       "      <th>content</th>\n",
       "    </tr>\n",
       "  </thead>\n",
       "  <tbody>\n",
       "    <tr>\n",
       "      <th>1611037</th>\n",
       "      <td>791180</td>\n",
       "      <td>fake</td>\n",
       "      <td>Market Finally Breaks Out\\n\\n% of readers thin...</td>\n",
       "    </tr>\n",
       "  </tbody>\n",
       "</table>\n",
       "</div>"
      ],
      "text/plain": [
       "             id  type                                            content\n",
       "1611037  791180  fake  Market Finally Breaks Out\\n\\n% of readers thin..."
      ]
     },
     "metadata": {},
     "output_type": "display_data"
    },
    {
     "data": {
      "text/plain": [
       "(104591, 3)"
      ]
     },
     "metadata": {},
     "output_type": "display_data"
    },
    {
     "data": {
      "text/plain": [
       "(12927, 3)"
      ]
     },
     "metadata": {},
     "output_type": "display_data"
    },
    {
     "data": {
      "text/plain": [
       "(13058, 3)"
      ]
     },
     "metadata": {},
     "output_type": "display_data"
    },
    {
     "data": {
      "text/plain": [
       "'reliable:'"
      ]
     },
     "metadata": {},
     "output_type": "display_data"
    },
    {
     "data": {
      "text/plain": [
       "(5275, 2)"
      ]
     },
     "metadata": {},
     "output_type": "display_data"
    },
    {
     "data": {
      "text/plain": [
       "'fake:'"
      ]
     },
     "metadata": {},
     "output_type": "display_data"
    },
    {
     "data": {
      "text/plain": [
       "(99316, 2)"
      ]
     },
     "metadata": {},
     "output_type": "display_data"
    },
    {
     "data": {
      "text/plain": [
       "'Counting fake...'"
      ]
     },
     "metadata": {},
     "output_type": "display_data"
    },
    {
     "data": {
      "application/vnd.jupyter.widget-view+json": {
       "model_id": "3fd936b527184ae49718a72874acab4b",
       "version_major": 2,
       "version_minor": 0
      },
      "text/plain": [
       "VBox(children=(HBox(children=(IntProgress(value=0, description='0.00%', max=24829), Label(value='0 / 24829')))…"
      ]
     },
     "metadata": {},
     "output_type": "display_data"
    },
    {
     "data": {
      "text/html": [
       "<div>\n",
       "<style scoped>\n",
       "    .dataframe tbody tr th:only-of-type {\n",
       "        vertical-align: middle;\n",
       "    }\n",
       "\n",
       "    .dataframe tbody tr th {\n",
       "        vertical-align: top;\n",
       "    }\n",
       "\n",
       "    .dataframe thead th {\n",
       "        text-align: right;\n",
       "    }\n",
       "</style>\n",
       "<table border=\"1\" class=\"dataframe\">\n",
       "  <thead>\n",
       "    <tr style=\"text-align: right;\">\n",
       "      <th></th>\n",
       "      <th>url_count</th>\n",
       "    </tr>\n",
       "  </thead>\n",
       "  <tbody>\n",
       "    <tr>\n",
       "      <th>1611037</th>\n",
       "      <td>1</td>\n",
       "    </tr>\n",
       "    <tr>\n",
       "      <th>1624635</th>\n",
       "      <td>1</td>\n",
       "    </tr>\n",
       "    <tr>\n",
       "      <th>1644701</th>\n",
       "      <td>2</td>\n",
       "    </tr>\n",
       "    <tr>\n",
       "      <th>25200</th>\n",
       "      <td>1</td>\n",
       "    </tr>\n",
       "    <tr>\n",
       "      <th>437550</th>\n",
       "      <td>0</td>\n",
       "    </tr>\n",
       "  </tbody>\n",
       "</table>\n",
       "</div>"
      ],
      "text/plain": [
       "         url_count\n",
       "1611037          1\n",
       "1624635          1\n",
       "1644701          2\n",
       "25200            1\n",
       "437550           0"
      ]
     },
     "metadata": {},
     "output_type": "display_data"
    },
    {
     "data": {
      "text/plain": [
       "'Wrote fake counts to fake_counts'"
      ]
     },
     "metadata": {},
     "output_type": "display_data"
    }
   ],
   "source": [
    "news_path = \"../ML-data/news_cleaned_2018_02_13.csv\"\n",
    "\n",
    "#df_news = pd.read_csv(news_path)\n",
    "\n",
    "#1\n",
    "df_news = pd.read_csv(news_path, sep=',', nrows=1_000_000)\n",
    "display(df_news.head(1))\n",
    "display(df_news.shape)\n",
    "\n",
    "fake_view = get_view(df_news)\n",
    "\n",
    "run_and_write_all_counts(\"fake\", fake_view, \"_1_mod_test\")\n"
   ]
  },
  {
   "cell_type": "code",
   "execution_count": null,
   "id": "7cccd6ed",
   "metadata": {},
   "outputs": [
    {
     "name": "stderr",
     "output_type": "stream",
     "text": [
      "c:\\Users\\Elias\\miniconda3\\envs\\py37env\\lib\\site-packages\\IPython\\core\\interactiveshell.py:3457: DtypeWarning: Columns (0,1,2,3,4,5,6,7,8,9,10,12,13,14) have mixed types.Specify dtype option on import or set low_memory=False.\n",
      "  exec(code_obj, self.user_global_ns, self.user_ns)\n"
     ]
    },
    {
     "data": {
      "text/html": [
       "<div>\n",
       "<style scoped>\n",
       "    .dataframe tbody tr th:only-of-type {\n",
       "        vertical-align: middle;\n",
       "    }\n",
       "\n",
       "    .dataframe tbody tr th {\n",
       "        vertical-align: top;\n",
       "    }\n",
       "\n",
       "    .dataframe thead th {\n",
       "        text-align: right;\n",
       "    }\n",
       "</style>\n",
       "<table border=\"1\" class=\"dataframe\">\n",
       "  <thead>\n",
       "    <tr style=\"text-align: right;\">\n",
       "      <th></th>\n",
       "      <th>Unnamed: 0</th>\n",
       "      <th>id</th>\n",
       "      <th>domain</th>\n",
       "      <th>type</th>\n",
       "      <th>url</th>\n",
       "      <th>content</th>\n",
       "      <th>scraped_at</th>\n",
       "      <th>inserted_at</th>\n",
       "      <th>updated_at</th>\n",
       "      <th>title</th>\n",
       "      <th>authors</th>\n",
       "      <th>keywords</th>\n",
       "      <th>meta_keywords</th>\n",
       "      <th>meta_description</th>\n",
       "      <th>tags</th>\n",
       "      <th>summary</th>\n",
       "      <th>source</th>\n",
       "    </tr>\n",
       "  </thead>\n",
       "  <tbody>\n",
       "    <tr>\n",
       "      <th>0</th>\n",
       "      <td>0</td>\n",
       "      <td>2</td>\n",
       "      <td>express.co.uk</td>\n",
       "      <td>rumor</td>\n",
       "      <td>https://www.express.co.uk/news/science/738402/...</td>\n",
       "      <td>Life is an illusion, at least on a quantum lev...</td>\n",
       "      <td>2018-01-25 16:17:44.789555</td>\n",
       "      <td>2018-02-02 01:19:41.756632</td>\n",
       "      <td>2018-02-02 01:19:41.756664</td>\n",
       "      <td>Is life an ILLUSION? Researchers prove 'realit...</td>\n",
       "      <td>Sean Martin</td>\n",
       "      <td>NaN</td>\n",
       "      <td>['']</td>\n",
       "      <td>THE UNIVERSE ceases to exist when we are not l...</td>\n",
       "      <td>NaN</td>\n",
       "      <td>NaN</td>\n",
       "      <td>NaN</td>\n",
       "    </tr>\n",
       "  </tbody>\n",
       "</table>\n",
       "</div>"
      ],
      "text/plain": [
       "  Unnamed: 0 id         domain   type  \\\n",
       "0          0  2  express.co.uk  rumor   \n",
       "\n",
       "                                                 url  \\\n",
       "0  https://www.express.co.uk/news/science/738402/...   \n",
       "\n",
       "                                             content  \\\n",
       "0  Life is an illusion, at least on a quantum lev...   \n",
       "\n",
       "                   scraped_at                 inserted_at  \\\n",
       "0  2018-01-25 16:17:44.789555  2018-02-02 01:19:41.756632   \n",
       "\n",
       "                   updated_at  \\\n",
       "0  2018-02-02 01:19:41.756664   \n",
       "\n",
       "                                               title      authors  keywords  \\\n",
       "0  Is life an ILLUSION? Researchers prove 'realit...  Sean Martin       NaN   \n",
       "\n",
       "  meta_keywords                                   meta_description tags  \\\n",
       "0          ['']  THE UNIVERSE ceases to exist when we are not l...  NaN   \n",
       "\n",
       "   summary  source  \n",
       "0      NaN     NaN  "
      ]
     },
     "metadata": {},
     "output_type": "display_data"
    },
    {
     "data": {
      "text/plain": [
       "(1000000, 17)"
      ]
     },
     "metadata": {},
     "output_type": "display_data"
    },
    {
     "data": {
      "text/html": [
       "<div>\n",
       "<style scoped>\n",
       "    .dataframe tbody tr th:only-of-type {\n",
       "        vertical-align: middle;\n",
       "    }\n",
       "\n",
       "    .dataframe tbody tr th {\n",
       "        vertical-align: top;\n",
       "    }\n",
       "\n",
       "    .dataframe thead th {\n",
       "        text-align: right;\n",
       "    }\n",
       "</style>\n",
       "<table border=\"1\" class=\"dataframe\">\n",
       "  <thead>\n",
       "    <tr style=\"text-align: right;\">\n",
       "      <th></th>\n",
       "      <th>id</th>\n",
       "      <th>type</th>\n",
       "      <th>content</th>\n",
       "    </tr>\n",
       "  </thead>\n",
       "  <tbody>\n",
       "    <tr>\n",
       "      <th>670747</th>\n",
       "      <td>602279</td>\n",
       "      <td>fake</td>\n",
       "      <td>PETRUS ROMANUS=Pope Francis (Installed March 1...</td>\n",
       "    </tr>\n",
       "  </tbody>\n",
       "</table>\n",
       "</div>"
      ],
      "text/plain": [
       "            id  type                                            content\n",
       "670747  602279  fake  PETRUS ROMANUS=Pope Francis (Installed March 1..."
      ]
     },
     "metadata": {},
     "output_type": "display_data"
    },
    {
     "data": {
      "text/plain": [
       "(64035, 3)"
      ]
     },
     "metadata": {},
     "output_type": "display_data"
    },
    {
     "data": {
      "text/plain": [
       "(7915, 3)"
      ]
     },
     "metadata": {},
     "output_type": "display_data"
    },
    {
     "data": {
      "text/plain": [
       "(7995, 3)"
      ]
     },
     "metadata": {},
     "output_type": "display_data"
    },
    {
     "data": {
      "text/plain": [
       "'reliable:'"
      ]
     },
     "metadata": {},
     "output_type": "display_data"
    },
    {
     "data": {
      "text/plain": [
       "(2114, 2)"
      ]
     },
     "metadata": {},
     "output_type": "display_data"
    },
    {
     "data": {
      "text/plain": [
       "'fake:'"
      ]
     },
     "metadata": {},
     "output_type": "display_data"
    },
    {
     "data": {
      "text/plain": [
       "(61921, 2)"
      ]
     },
     "metadata": {},
     "output_type": "display_data"
    },
    {
     "data": {
      "text/plain": [
       "'Counting fake...'"
      ]
     },
     "metadata": {},
     "output_type": "display_data"
    },
    {
     "data": {
      "application/vnd.jupyter.widget-view+json": {
       "model_id": "8848bcfc83ee4af9899f995a091ed67f",
       "version_major": 2,
       "version_minor": 0
      },
      "text/plain": [
       "VBox(children=(HBox(children=(IntProgress(value=0, description='0.00%', max=15481), Label(value='0 / 15481')))…"
      ]
     },
     "metadata": {},
     "output_type": "display_data"
    },
    {
     "data": {
      "text/html": [
       "<div>\n",
       "<style scoped>\n",
       "    .dataframe tbody tr th:only-of-type {\n",
       "        vertical-align: middle;\n",
       "    }\n",
       "\n",
       "    .dataframe tbody tr th {\n",
       "        vertical-align: top;\n",
       "    }\n",
       "\n",
       "    .dataframe thead th {\n",
       "        text-align: right;\n",
       "    }\n",
       "</style>\n",
       "<table border=\"1\" class=\"dataframe\">\n",
       "  <thead>\n",
       "    <tr style=\"text-align: right;\">\n",
       "      <th></th>\n",
       "      <th>url_count</th>\n",
       "    </tr>\n",
       "  </thead>\n",
       "  <tbody>\n",
       "    <tr>\n",
       "      <th>670747</th>\n",
       "      <td>0</td>\n",
       "    </tr>\n",
       "    <tr>\n",
       "      <th>434204</th>\n",
       "      <td>0</td>\n",
       "    </tr>\n",
       "    <tr>\n",
       "      <th>75250</th>\n",
       "      <td>2</td>\n",
       "    </tr>\n",
       "    <tr>\n",
       "      <th>72823</th>\n",
       "      <td>1</td>\n",
       "    </tr>\n",
       "    <tr>\n",
       "      <th>436766</th>\n",
       "      <td>0</td>\n",
       "    </tr>\n",
       "  </tbody>\n",
       "</table>\n",
       "</div>"
      ],
      "text/plain": [
       "        url_count\n",
       "670747          0\n",
       "434204          0\n",
       "75250           2\n",
       "72823           1\n",
       "436766          0"
      ]
     },
     "metadata": {},
     "output_type": "display_data"
    },
    {
     "data": {
      "text/plain": [
       "'Wrote fake counts to fake_counts'"
      ]
     },
     "metadata": {},
     "output_type": "display_data"
    },
    {
     "name": "stderr",
     "output_type": "stream",
     "text": [
      "c:\\Users\\Elias\\miniconda3\\envs\\py37env\\lib\\site-packages\\IPython\\core\\interactiveshell.py:3457: DtypeWarning: Columns (0,1,2,3,4,5,6,7,8,9,10,12,13,14) have mixed types.Specify dtype option on import or set low_memory=False.\n",
      "  exec(code_obj, self.user_global_ns, self.user_ns)\n"
     ]
    },
    {
     "data": {
      "text/html": [
       "<div>\n",
       "<style scoped>\n",
       "    .dataframe tbody tr th:only-of-type {\n",
       "        vertical-align: middle;\n",
       "    }\n",
       "\n",
       "    .dataframe tbody tr th {\n",
       "        vertical-align: top;\n",
       "    }\n",
       "\n",
       "    .dataframe thead th {\n",
       "        text-align: right;\n",
       "    }\n",
       "</style>\n",
       "<table border=\"1\" class=\"dataframe\">\n",
       "  <thead>\n",
       "    <tr style=\"text-align: right;\">\n",
       "      <th></th>\n",
       "      <th>Unnamed: 0</th>\n",
       "      <th>id</th>\n",
       "      <th>domain</th>\n",
       "      <th>type</th>\n",
       "      <th>url</th>\n",
       "      <th>content</th>\n",
       "      <th>scraped_at</th>\n",
       "      <th>inserted_at</th>\n",
       "      <th>updated_at</th>\n",
       "      <th>title</th>\n",
       "      <th>authors</th>\n",
       "      <th>keywords</th>\n",
       "      <th>meta_keywords</th>\n",
       "      <th>meta_description</th>\n",
       "      <th>tags</th>\n",
       "      <th>summary</th>\n",
       "      <th>source</th>\n",
       "    </tr>\n",
       "  </thead>\n",
       "  <tbody>\n",
       "    <tr>\n",
       "      <th>0</th>\n",
       "      <td>9963</td>\n",
       "      <td>1170150</td>\n",
       "      <td>express.co.uk</td>\n",
       "      <td>rumor</td>\n",
       "      <td>https://www.express.co.uk/life-style/health/74...</td>\n",
       "      <td>GETTY Tension headache: Grinding teeth can cau...</td>\n",
       "      <td>2018-01-25 20:13:50.426130</td>\n",
       "      <td>2018-02-02 01:19:41.756632</td>\n",
       "      <td>2018-02-02 01:19:41.756664</td>\n",
       "      <td>Headache CURE: Tackling THIS common night time...</td>\n",
       "      <td>Olivia Lerche</td>\n",
       "      <td>NaN</td>\n",
       "      <td>['']</td>\n",
       "      <td>TENSION headaches are the most common type of ...</td>\n",
       "      <td>NaN</td>\n",
       "      <td>NaN</td>\n",
       "      <td>NaN</td>\n",
       "    </tr>\n",
       "  </tbody>\n",
       "</table>\n",
       "</div>"
      ],
      "text/plain": [
       "  Unnamed: 0       id         domain   type  \\\n",
       "0       9963  1170150  express.co.uk  rumor   \n",
       "\n",
       "                                                 url  \\\n",
       "0  https://www.express.co.uk/life-style/health/74...   \n",
       "\n",
       "                                             content  \\\n",
       "0  GETTY Tension headache: Grinding teeth can cau...   \n",
       "\n",
       "                   scraped_at                 inserted_at  \\\n",
       "0  2018-01-25 20:13:50.426130  2018-02-02 01:19:41.756632   \n",
       "\n",
       "                   updated_at  \\\n",
       "0  2018-02-02 01:19:41.756664   \n",
       "\n",
       "                                               title        authors  keywords  \\\n",
       "0  Headache CURE: Tackling THIS common night time...  Olivia Lerche       NaN   \n",
       "\n",
       "  meta_keywords                                   meta_description tags  \\\n",
       "0          ['']  TENSION headaches are the most common type of ...  NaN   \n",
       "\n",
       "   summary  source  \n",
       "0      NaN     NaN  "
      ]
     },
     "metadata": {},
     "output_type": "display_data"
    },
    {
     "data": {
      "text/plain": [
       "(3000000, 17)"
      ]
     },
     "metadata": {},
     "output_type": "display_data"
    },
    {
     "data": {
      "text/html": [
       "<div>\n",
       "<style scoped>\n",
       "    .dataframe tbody tr th:only-of-type {\n",
       "        vertical-align: middle;\n",
       "    }\n",
       "\n",
       "    .dataframe tbody tr th {\n",
       "        vertical-align: top;\n",
       "    }\n",
       "\n",
       "    .dataframe thead th {\n",
       "        text-align: right;\n",
       "    }\n",
       "</style>\n",
       "<table border=\"1\" class=\"dataframe\">\n",
       "  <thead>\n",
       "    <tr style=\"text-align: right;\">\n",
       "      <th></th>\n",
       "      <th>id</th>\n",
       "      <th>type</th>\n",
       "      <th>content</th>\n",
       "    </tr>\n",
       "  </thead>\n",
       "  <tbody>\n",
       "    <tr>\n",
       "      <th>1172781</th>\n",
       "      <td>1910632</td>\n",
       "      <td>fake</td>\n",
       "      <td>(MERU, CRWE, ATML, QADA) Stocks in Focus by Pe...</td>\n",
       "    </tr>\n",
       "  </tbody>\n",
       "</table>\n",
       "</div>"
      ],
      "text/plain": [
       "              id  type                                            content\n",
       "1172781  1910632  fake  (MERU, CRWE, ATML, QADA) Stocks in Focus by Pe..."
      ]
     },
     "metadata": {},
     "output_type": "display_data"
    },
    {
     "data": {
      "text/plain": [
       "(94791, 3)"
      ]
     },
     "metadata": {},
     "output_type": "display_data"
    },
    {
     "data": {
      "text/plain": [
       "(11716, 3)"
      ]
     },
     "metadata": {},
     "output_type": "display_data"
    },
    {
     "data": {
      "text/plain": [
       "(11835, 3)"
      ]
     },
     "metadata": {},
     "output_type": "display_data"
    },
    {
     "data": {
      "text/plain": [
       "'reliable:'"
      ]
     },
     "metadata": {},
     "output_type": "display_data"
    },
    {
     "data": {
      "text/plain": [
       "(7507, 2)"
      ]
     },
     "metadata": {},
     "output_type": "display_data"
    },
    {
     "data": {
      "text/plain": [
       "'fake:'"
      ]
     },
     "metadata": {},
     "output_type": "display_data"
    },
    {
     "data": {
      "text/plain": [
       "(87284, 2)"
      ]
     },
     "metadata": {},
     "output_type": "display_data"
    },
    {
     "data": {
      "text/plain": [
       "'Counting fake...'"
      ]
     },
     "metadata": {},
     "output_type": "display_data"
    },
    {
     "data": {
      "application/vnd.jupyter.widget-view+json": {
       "model_id": "44486ae3db584475b26e43781b725694",
       "version_major": 2,
       "version_minor": 0
      },
      "text/plain": [
       "VBox(children=(HBox(children=(IntProgress(value=0, description='0.00%', max=21821), Label(value='0 / 21821')))…"
      ]
     },
     "metadata": {},
     "output_type": "display_data"
    },
    {
     "data": {
      "text/html": [
       "<div>\n",
       "<style scoped>\n",
       "    .dataframe tbody tr th:only-of-type {\n",
       "        vertical-align: middle;\n",
       "    }\n",
       "\n",
       "    .dataframe tbody tr th {\n",
       "        vertical-align: top;\n",
       "    }\n",
       "\n",
       "    .dataframe thead th {\n",
       "        text-align: right;\n",
       "    }\n",
       "</style>\n",
       "<table border=\"1\" class=\"dataframe\">\n",
       "  <thead>\n",
       "    <tr style=\"text-align: right;\">\n",
       "      <th></th>\n",
       "      <th>url_count</th>\n",
       "    </tr>\n",
       "  </thead>\n",
       "  <tbody>\n",
       "    <tr>\n",
       "      <th>1172781</th>\n",
       "      <td>1</td>\n",
       "    </tr>\n",
       "    <tr>\n",
       "      <th>1963730</th>\n",
       "      <td>0</td>\n",
       "    </tr>\n",
       "    <tr>\n",
       "      <th>453917</th>\n",
       "      <td>0</td>\n",
       "    </tr>\n",
       "    <tr>\n",
       "      <th>2400762</th>\n",
       "      <td>2</td>\n",
       "    </tr>\n",
       "    <tr>\n",
       "      <th>1021906</th>\n",
       "      <td>1</td>\n",
       "    </tr>\n",
       "  </tbody>\n",
       "</table>\n",
       "</div>"
      ],
      "text/plain": [
       "         url_count\n",
       "1172781          1\n",
       "1963730          0\n",
       "453917           0\n",
       "2400762          2\n",
       "1021906          1"
      ]
     },
     "metadata": {},
     "output_type": "display_data"
    },
    {
     "data": {
      "text/plain": [
       "'Wrote fake counts to fake_counts'"
      ]
     },
     "metadata": {},
     "output_type": "display_data"
    },
    {
     "name": "stderr",
     "output_type": "stream",
     "text": [
      "c:\\Users\\Elias\\miniconda3\\envs\\py37env\\lib\\site-packages\\IPython\\core\\interactiveshell.py:3457: DtypeWarning: Columns (0,1,2,3,4,5,6,7,8,9,10,11,12,13,14,15,16) have mixed types.Specify dtype option on import or set low_memory=False.\n",
      "  exec(code_obj, self.user_global_ns, self.user_ns)\n"
     ]
    },
    {
     "data": {
      "text/html": [
       "<div>\n",
       "<style scoped>\n",
       "    .dataframe tbody tr th:only-of-type {\n",
       "        vertical-align: middle;\n",
       "    }\n",
       "\n",
       "    .dataframe tbody tr th {\n",
       "        vertical-align: top;\n",
       "    }\n",
       "\n",
       "    .dataframe thead th {\n",
       "        text-align: right;\n",
       "    }\n",
       "</style>\n",
       "<table border=\"1\" class=\"dataframe\">\n",
       "  <thead>\n",
       "    <tr style=\"text-align: right;\">\n",
       "      <th></th>\n",
       "      <th>Unnamed: 0</th>\n",
       "      <th>id</th>\n",
       "      <th>domain</th>\n",
       "      <th>type</th>\n",
       "      <th>url</th>\n",
       "      <th>content</th>\n",
       "      <th>scraped_at</th>\n",
       "      <th>inserted_at</th>\n",
       "      <th>updated_at</th>\n",
       "      <th>title</th>\n",
       "      <th>authors</th>\n",
       "      <th>keywords</th>\n",
       "      <th>meta_keywords</th>\n",
       "      <th>meta_description</th>\n",
       "      <th>tags</th>\n",
       "      <th>summary</th>\n",
       "      <th>source</th>\n",
       "    </tr>\n",
       "  </thead>\n",
       "  <tbody>\n",
       "    <tr>\n",
       "      <th>0</th>\n",
       "      <td>9881</td>\n",
       "      <td>4617588</td>\n",
       "      <td>themuslimissue.wordpress.com</td>\n",
       "      <td>hate</td>\n",
       "      <td>https://themuslimissue.wordpress.com/2013/06/1...</td>\n",
       "      <td>The satanic savages of Islam have no humanity ...</td>\n",
       "      <td>2017-11-27T01:15:32.269834</td>\n",
       "      <td>2018-02-07 23:39:33.852671</td>\n",
       "      <td>2018-02-07 23:39:33.852696</td>\n",
       "      <td>(Video) Muslim education: beat children and br...</td>\n",
       "      <td>NaN</td>\n",
       "      <td>NaN</td>\n",
       "      <td>['']</td>\n",
       "      <td>The satanic savages of Islam have no humanity ...</td>\n",
       "      <td>NaN</td>\n",
       "      <td>NaN</td>\n",
       "      <td>NaN</td>\n",
       "    </tr>\n",
       "  </tbody>\n",
       "</table>\n",
       "</div>"
      ],
      "text/plain": [
       "  Unnamed: 0       id                        domain  type  \\\n",
       "0       9881  4617588  themuslimissue.wordpress.com  hate   \n",
       "\n",
       "                                                 url  \\\n",
       "0  https://themuslimissue.wordpress.com/2013/06/1...   \n",
       "\n",
       "                                             content  \\\n",
       "0  The satanic savages of Islam have no humanity ...   \n",
       "\n",
       "                   scraped_at                 inserted_at  \\\n",
       "0  2017-11-27T01:15:32.269834  2018-02-07 23:39:33.852671   \n",
       "\n",
       "                   updated_at  \\\n",
       "0  2018-02-07 23:39:33.852696   \n",
       "\n",
       "                                               title authors keywords  \\\n",
       "0  (Video) Muslim education: beat children and br...     NaN      NaN   \n",
       "\n",
       "  meta_keywords                                   meta_description tags  \\\n",
       "0          ['']  The satanic savages of Islam have no humanity ...  NaN   \n",
       "\n",
       "  summary source  \n",
       "0     NaN    NaN  "
      ]
     },
     "metadata": {},
     "output_type": "display_data"
    },
    {
     "data": {
      "text/plain": [
       "(3000000, 17)"
      ]
     },
     "metadata": {},
     "output_type": "display_data"
    },
    {
     "data": {
      "text/html": [
       "<div>\n",
       "<style scoped>\n",
       "    .dataframe tbody tr th:only-of-type {\n",
       "        vertical-align: middle;\n",
       "    }\n",
       "\n",
       "    .dataframe tbody tr th {\n",
       "        vertical-align: top;\n",
       "    }\n",
       "\n",
       "    .dataframe thead th {\n",
       "        text-align: right;\n",
       "    }\n",
       "</style>\n",
       "<table border=\"1\" class=\"dataframe\">\n",
       "  <thead>\n",
       "    <tr style=\"text-align: right;\">\n",
       "      <th></th>\n",
       "      <th>id</th>\n",
       "      <th>type</th>\n",
       "      <th>content</th>\n",
       "    </tr>\n",
       "  </thead>\n",
       "  <tbody>\n",
       "    <tr>\n",
       "      <th>943174</th>\n",
       "      <td>5749823</td>\n",
       "      <td>fake</td>\n",
       "      <td>SPLC Offers Their Own Hate Speech Directed at ...</td>\n",
       "    </tr>\n",
       "  </tbody>\n",
       "</table>\n",
       "</div>"
      ],
      "text/plain": [
       "             id  type                                            content\n",
       "943174  5749823  fake  SPLC Offers Their Own Hate Speech Directed at ..."
      ]
     },
     "metadata": {},
     "output_type": "display_data"
    },
    {
     "data": {
      "text/plain": [
       "(332042, 3)"
      ]
     },
     "metadata": {},
     "output_type": "display_data"
    },
    {
     "data": {
      "text/plain": [
       "(41040, 3)"
      ]
     },
     "metadata": {},
     "output_type": "display_data"
    },
    {
     "data": {
      "text/plain": [
       "(41454, 3)"
      ]
     },
     "metadata": {},
     "output_type": "display_data"
    },
    {
     "data": {
      "text/plain": [
       "'reliable:'"
      ]
     },
     "metadata": {},
     "output_type": "display_data"
    },
    {
     "data": {
      "text/plain": [
       "(4173, 2)"
      ]
     },
     "metadata": {},
     "output_type": "display_data"
    },
    {
     "data": {
      "text/plain": [
       "'fake:'"
      ]
     },
     "metadata": {},
     "output_type": "display_data"
    },
    {
     "data": {
      "text/plain": [
       "(327869, 2)"
      ]
     },
     "metadata": {},
     "output_type": "display_data"
    },
    {
     "data": {
      "text/plain": [
       "'Counting fake...'"
      ]
     },
     "metadata": {},
     "output_type": "display_data"
    },
    {
     "data": {
      "application/vnd.jupyter.widget-view+json": {
       "model_id": "02449331cb8a45c9a46b2f2883ee3816",
       "version_major": 2,
       "version_minor": 0
      },
      "text/plain": [
       "VBox(children=(HBox(children=(IntProgress(value=0, description='0.00%', max=81968), Label(value='0 / 81968')))…"
      ]
     },
     "metadata": {},
     "output_type": "display_data"
    },
    {
     "data": {
      "text/html": [
       "<div>\n",
       "<style scoped>\n",
       "    .dataframe tbody tr th:only-of-type {\n",
       "        vertical-align: middle;\n",
       "    }\n",
       "\n",
       "    .dataframe tbody tr th {\n",
       "        vertical-align: top;\n",
       "    }\n",
       "\n",
       "    .dataframe thead th {\n",
       "        text-align: right;\n",
       "    }\n",
       "</style>\n",
       "<table border=\"1\" class=\"dataframe\">\n",
       "  <thead>\n",
       "    <tr style=\"text-align: right;\">\n",
       "      <th></th>\n",
       "      <th>url_count</th>\n",
       "    </tr>\n",
       "  </thead>\n",
       "  <tbody>\n",
       "    <tr>\n",
       "      <th>943174</th>\n",
       "      <td>0</td>\n",
       "    </tr>\n",
       "    <tr>\n",
       "      <th>1668537</th>\n",
       "      <td>0</td>\n",
       "    </tr>\n",
       "    <tr>\n",
       "      <th>1839478</th>\n",
       "      <td>0</td>\n",
       "    </tr>\n",
       "    <tr>\n",
       "      <th>152114</th>\n",
       "      <td>0</td>\n",
       "    </tr>\n",
       "    <tr>\n",
       "      <th>2304984</th>\n",
       "      <td>0</td>\n",
       "    </tr>\n",
       "  </tbody>\n",
       "</table>\n",
       "</div>"
      ],
      "text/plain": [
       "         url_count\n",
       "943174           0\n",
       "1668537          0\n",
       "1839478          0\n",
       "152114           0\n",
       "2304984          0"
      ]
     },
     "metadata": {},
     "output_type": "display_data"
    },
    {
     "data": {
      "text/plain": [
       "'Wrote fake counts to fake_counts'"
      ]
     },
     "metadata": {},
     "output_type": "display_data"
    }
   ],
   "source": [
    "#news_path = \"./data/fake-news/test.csv\"\n",
    "#news_path = \"../ML-data/news_10_percent_utf8.csv\"\n",
    "news_path = \"../ML-data/news_cleaned_2018_02_13.csv\"\n",
    "\n",
    "#df_news = pd.read_csv(news_path)\n",
    "\n",
    "#1\n",
    "df_news = pd.read_csv(news_path, sep=',', nrows=1_000_000)\n",
    "display(df_news.head(1))\n",
    "display(df_news.shape)\n",
    "\n",
    "fake_view = get_view(df_news)\n",
    "\n",
    "run_and_write_all_counts(\"fake\", fake_view, \"_1_mod\")\n",
    "\n",
    "#2\n",
    "df_news = pd.read_csv(news_path, sep=',', skiprows=range(1, 1_000_000), nrows=3_000_000)\n",
    "display(df_news.head(1))\n",
    "display(df_news.shape)\n",
    "\n",
    "fake_view = get_view(df_news)\n",
    "\n",
    "run_and_write_all_counts(\"fake\", fake_view, \"_2_mod\")\n",
    "\n",
    "#3\n",
    "df_news = pd.read_csv(news_path, sep=',', skiprows=range(1, 4_000_000), nrows=3_000_000)\n",
    "display(df_news.head(1))\n",
    "display(df_news.shape)\n",
    "\n",
    "fake_view = get_view(df_news)\n",
    "\n",
    "run_and_write_all_counts(\"fake\", fake_view, \"_3_mod\")\n",
    "\n"
   ]
  },
  {
   "cell_type": "code",
   "execution_count": null,
   "id": "a546489d",
   "metadata": {},
   "outputs": [],
   "source": [
    "import spacy\n",
    "#spacy.require_gpu()\n",
    "nlp = spacy.load('en_core_web_sm', exclude=[\"parser\",\"ner\"])\n"
   ]
  },
  {
   "cell_type": "code",
   "execution_count": null,
   "id": "4b1042ef",
   "metadata": {},
   "outputs": [],
   "source": [
    "\n",
    "def do_thing(text, nlp):\n",
    "  tokens = nlp(text)\n",
    "  tokens = [token.lemma_ for token in tokens if not token.is_stop]\n",
    "  return tokens\n",
    "\n",
    "#from pandarallel import pandarallel\n",
    "#pandarallel.initialize(progress_bar=True)\n"
   ]
  },
  {
   "cell_type": "code",
   "execution_count": null,
   "id": "63414d5d",
   "metadata": {},
   "outputs": [
    {
     "data": {
      "text/plain": [
       "0      [life, illusion, ,, quantum, level, ,, theory,...\n",
       "1      [unfortunately, ,, attack, islamic, terrorism,...\n",
       "2      [Los, Angeles, Police, Department, deny, $, 3,...\n",
       "3      [White, House, decide, quietly, withdraw, tie,...\n",
       "4      [\", time, come, cut, tongue, support, peace, m...\n",
       "                             ...                        \n",
       "995    [shocking, ,, unprecedented, Christmas, day, n...\n",
       "996    [Thrilling, Thursday, –, Nasdaq, 7,000, Summit...\n",
       "997    [Obama, face, environmental, lawsuit, Chicago,...\n",
       "998    [Fake, News, Satanic, say, Pope, \\n\\n, %, read...\n",
       "999    [Metalla, Royalty, Streaming, increase, produc...\n",
       "Name: content, Length: 1000, dtype: object"
      ]
     },
     "metadata": {},
     "output_type": "display_data"
    },
    {
     "name": "stdout",
     "output_type": "stream",
     "text": [
      "Wall time: 29.6 s\n"
     ]
    }
   ],
   "source": [
    "%%time\n",
    "df_output = df_trimmed['content'].apply(do_thing, nlp=nlp)\n",
    "\n",
    "display(df_output) "
   ]
  },
  {
   "cell_type": "code",
   "execution_count": null,
   "id": "b1b4d6fe",
   "metadata": {},
   "outputs": [],
   "source": [
    "\n",
    "from pandarallel import pandarallel\n",
    "pandarallel.initialize(progress_bar=True)\n",
    "\n",
    "import multiprocessing as mp\n",
    "# Define your function that operates on each chunk\n",
    "def process_chunk(chunk):\n",
    "    #import spacy\n",
    "    #nlp = spacy.load('en_core_web_sm', exclude=[\"tagger\",\"parser\",\"ner\", \"attribute_ruler\"])\n",
    "\n",
    "    #from pandarallel import pandarallel\n",
    "    #pandarallel.initialize(nb_workers=1, progress_bar=True)\n",
    "    \n",
    "    #def do_thing(text, nlp):\n",
    "    #    tokens = nlp(text)\n",
    "    #    tokens = [token.lemma_ for token in tokens if not token.is_stop]\n",
    "    #    return tokens\n",
    "    \n",
    "    #chunk = chunk['content'].apply(do_thing, nlp=nlp)\n",
    "    return chunk\n",
    "\n",
    "# Define your worker function\n",
    "def worker(chunk, func, output_queue):\n",
    "    result = chunk.apply(func)\n",
    "    output_queue.put(result)\n",
    "\n",
    "# Define your main function to split DataFrame into chunks and apply parallel processing\n",
    "def parallel_process_df(df, func):\n",
    "    # Get the number of CPU cores\n",
    "    num_cores = mp.cpu_count()\n",
    "    display('num_cores: '+str(num_cores))\n",
    "    \n",
    "    # Calculate the chunk size\n",
    "    chunk_size = int(len(df) / num_cores) + 1\n",
    "    \n",
    "    # Split DataFrame into chunks\n",
    "    chunks = [df[i:i+chunk_size] for i in range(0, len(df), chunk_size)]\n",
    "    \n",
    "    # Create a queue to store results\n",
    "    #output_queue = mp.Queue()\n",
    "    \n",
    "    mgr = mp.Manager()\n",
    "    ns_list = []\n",
    "    for chunk in chunks:\n",
    "        ns = mgr.Namespace()\n",
    "        ns.df = chunk\n",
    "        ns_list.append(ns)\n",
    "\n",
    "    dff = pd.DataFrame(np.random.rand(101, 5), columns=list('abcde'))\n",
    "    display(dff.shape)\n",
    "\n",
    "    def processor(dff):\n",
    "        return dff\n",
    "    \n",
    "    split_arr = np.array_split(dff, mp.cpu_count())\n",
    "    display(split_arr)\n",
    "\n",
    "    # process data\n",
    "    pool = mp.Pool(processes = mp.cpu_count())\n",
    "    results = pool.map(processor, np.array_split(dff, mp.cpu_count()))\n",
    "\n",
    "    #with mp.Pool() as pool:\n",
    "    #    results = pool.map(func, ns_list)\n",
    "    \n",
    "    # Get results from the queue\n",
    "    #results = [output_queue.get() for _ in processes]\n",
    "    \n",
    "    # Concatenate processed chunks back into a single DataFrame\n",
    "    result_df = pd.concat(results)\n",
    "    \n",
    "    return result_df\n",
    "\n",
    "\n",
    "\n",
    "# Apply parallel processing on DataFrame\n",
    "result_df = parallel_process_df(df_trimmed, process_chunk)\n",
    "\n",
    "print(result_df.head())"
   ]
  },
  {
   "cell_type": "code",
   "execution_count": null,
   "id": "3e92d8cf",
   "metadata": {},
   "outputs": [
    {
     "name": "stdout",
     "output_type": "stream",
     "text": [
      "Pipeline components:\n",
      "tok2vec\n",
      "lemmatizer\n"
     ]
    }
   ],
   "source": [
    "#import spacy\n",
    "#nlp = spacy.load('en_core_web_sm', exclude=[\"tagger\" ,\"parser\", \"ner\", \"attribute_ruler\"])\n",
    "pipeline_components = nlp.pipeline\n",
    "\n",
    "# Display the pipeline components\n",
    "print(\"Pipeline components:\")\n",
    "for component in pipeline_components:\n",
    "    print(component[0])"
   ]
  }
 ],
 "metadata": {
  "kernelspec": {
   "display_name": "Python 3 (ipykernel)",
   "language": "python",
   "name": "python3"
  },
  "language_info": {
   "codemirror_mode": {
    "name": "ipython",
    "version": 3
   },
   "file_extension": ".py",
   "mimetype": "text/x-python",
   "name": "python",
   "nbconvert_exporter": "python",
   "pygments_lexer": "ipython3",
   "version": "3.7.16"
  }
 },
 "nbformat": 4,
 "nbformat_minor": 5
}
